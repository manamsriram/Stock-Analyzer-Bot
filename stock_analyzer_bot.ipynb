{
 "cells": [
  {
   "cell_type": "code",
   "execution_count": 64,
   "metadata": {},
   "outputs": [],
   "source": [
    "import os\n",
    "import time\n",
    "from bs4 import BeautifulSoup\n",
    "import re\n",
    "import requests\n",
    "import warnings\n",
    "\n",
    "import langchain\n",
    "from langchain.llms import OpenAI\n",
    "from langchain.agents import load_tools, AgentType, Tool, initialize_agent\n",
    "os.environ[\"OPENAI_API_KEY\"] = \"ENter your API key here\"\n",
    "\n",
    "warnings.filterwarnings(\"ignore\")"
   ]
  },
  {
   "cell_type": "code",
   "execution_count": 65,
   "metadata": {},
   "outputs": [],
   "source": [
    "\n",
    "from langchain.chat_models import ChatOpenAI\n",
    "\n",
    "llm = ChatOpenAI(temperature=0, model_name=\"gpt-3.5-turbo-16k-0613\")"
   ]
  },
  {
   "cell_type": "markdown",
   "metadata": {},
   "source": [
    "### Defining the custom Tools"
   ]
  },
  {
   "cell_type": "code",
   "execution_count": 66,
   "metadata": {},
   "outputs": [
    {
     "name": "stdout",
     "output_type": "stream",
     "text": [
      "                  Close   Volume\n",
      "Date                            \n",
      "2024-11-08  3186.250000  1719882\n",
      "2024-11-11  3206.600098  1054929\n",
      "2024-11-12  3198.449951   992983\n",
      "2024-11-13  3187.850098   911537\n",
      "2024-11-14  3183.699951  1161637\n"
     ]
    }
   ],
   "source": [
    "import yfinance as yf\n",
    "\n",
    "# Fetch stock data from Yahoo Finance\n",
    "\n",
    "def get_stock_price(ticker,history=5):\n",
    "    # time.sleep(4) #To avoid rate limit error\n",
    "    if \".\" in ticker:\n",
    "        ticker=ticker.split(\".\")[0]\n",
    "    ticker=ticker+\".NS\"\n",
    "    stock = yf.Ticker(ticker)\n",
    "    df = stock.history(period=\"1y\")\n",
    "    df=df[[\"Close\",\"Volume\"]]\n",
    "    df.index=[str(x).split()[0] for x in list(df.index)]\n",
    "    df.index.rename(\"Date\",inplace=True)\n",
    "    df=df[-history:]\n",
    "    # print(df.columns)\n",
    "    \n",
    "    return df.to_string()\n",
    "\n",
    "print(get_stock_price(\"TITAN\"))"
   ]
  },
  {
   "cell_type": "code",
   "execution_count": 67,
   "metadata": {},
   "outputs": [
    {
     "name": "stdout",
     "output_type": "stream",
     "text": [
      "Recent News:\n",
      "\n",
      "0. Asian Paints Share Price Live Updates: Asian Paints Price Movement\n",
      "1. Asian Paints slips 25% in two months. Should you buy the dip?\n",
      "2. Asian Paints shares fall below Rs 2,500 mark for first time since April \n",
      "2021, what's next?\n",
      "3. Why Asian Paints Share Price is Falling\n",
      "\n"
     ]
    }
   ],
   "source": [
    "# Script to scrap top5 googgle news for given company name\n",
    "\n",
    "def google_query(search_term):\n",
    "    if \"news\" not in search_term:\n",
    "        search_term=search_term+\" stock news\"\n",
    "    url=f\"https://www.google.com/search?q={search_term}&cr=countryIN\"\n",
    "    url=re.sub(r\"\\s\",\"+\",url)\n",
    "    return url\n",
    "\n",
    "def get_recent_stock_news(company_name):\n",
    "    # time.sleep(4) #To avoid rate limit error\n",
    "    headers={'User-Agent': 'Mozilla/5.0 (Windows NT 10.0; Win64; x64) AppleWebKit/537.36 (KHTML, like Gecko) Chrome/102.0.0.0 Safari/537.36'}\n",
    "\n",
    "    g_query=google_query(company_name)\n",
    "    res=requests.get(g_query,headers=headers).text\n",
    "    soup=BeautifulSoup(res,\"html.parser\")\n",
    "    news=[]\n",
    "    for n in soup.find_all(\"div\",\"n0jPhd ynAwRc tNxQIb nDgy9d\"):\n",
    "        news.append(n.text)\n",
    "    for n in soup.find_all(\"div\",\"IJl0Z\"):\n",
    "        news.append(n.text)\n",
    "\n",
    "\n",
    "    if len(news)>6:\n",
    "        news=news[:4]\n",
    "    else:\n",
    "        news=news\n",
    "    news_string=\"\"\n",
    "    for i,n in enumerate(news):\n",
    "        news_string+=f\"{i}. {n}\\n\"\n",
    "    top5_news=\"Recent News:\\n\\n\"+news_string\n",
    "    \n",
    "    return top5_news\n",
    "\n",
    "\n",
    "print(get_recent_stock_news(\"Asian paints\"))"
   ]
  },
  {
   "cell_type": "code",
   "execution_count": 68,
   "metadata": {},
   "outputs": [
    {
     "name": "stdout",
     "output_type": "stream",
     "text": [
      "                                                                           2024-03-31       2023-03-31       2022-03-31\n",
      "Ordinary Shares Number                                                   3195339547.0     3196991847.0     3196991847.0\n",
      "Share Issued                                                             3195339547.0     3196991847.0     3196991847.0\n",
      "Net Debt                                                               461555600000.0   447847600000.0   445128500000.0\n",
      "Total Debt                                                             536895400000.0   529230900000.0   511952100000.0\n",
      "Tangible Book Value                                                    291385400000.0   255477800000.0   192170700000.0\n",
      "Invested Capital                                                       818351900000.0   777619500000.0   700316500000.0\n",
      "Working Capital                                                       -127861500000.0  -130012100000.0  -141013900000.0\n",
      "Net Tangible Assets                                                    291385400000.0   255477800000.0   192170700000.0\n",
      "Capital Lease Obligations                                               42096400000.0    39485700000.0    36051200000.0\n",
      "Common Stock Equity                                                    323552900000.0   287874300000.0   224415600000.0\n",
      "Total Capitalization                                                   697475400000.0   594959200000.0   551712600000.0\n",
      "Total Equity Gross Minority Interest                                   383327700000.0   342041200000.0   260284600000.0\n",
      "Minority Interest                                                       59774800000.0    54166900000.0    35869000000.0\n",
      "Stockholders Equity                                                    323552900000.0   287874300000.0   224415600000.0\n",
      "Other Equity Interest                                                     478500000.0      777300000.0   221220000000.0\n",
      "Retained Earnings                                                      239236300000.0   207701200000.0   152505300000.0\n",
      "Additional Paid In Capital                                              39858200000.0    40552400000.0    41483600000.0\n",
      "Capital Stock                                                            3195600000.0     3195600000.0     3195600000.0\n",
      "Common Stock                                                             3195600000.0     3195600000.0     3195600000.0\n",
      "Total Liabilities Net Minority Interest                               1012207200000.0   941449200000.0   868561400000.0\n",
      "Total Non Current Liabilities Net Minority Interest                    599691900000.0   500521400000.0   481224900000.0\n",
      "Other Non Current Liabilities                                            8737100000.0    12761300000.0     6907400000.0\n",
      "Tradeand Other Payables Non Current                                      4808900000.0     5619200000.0     3443800000.0\n",
      "Non Current Deferred Revenue                                           128182000000.0   106555100000.0    88984000000.0\n",
      "Non Current Deferred Taxes Liabilities                                  27723300000.0    19193700000.0    10333000000.0\n",
      "Long Term Debt And Capital Lease Obligation                            411347300000.0   342191900000.0   359374900000.0\n",
      "Long Term Capital Lease Obligation                                      37424800000.0    35107000000.0    32077900000.0\n",
      "Long Term Debt                                                         373922500000.0   307084900000.0   327297000000.0\n",
      "Long Term Provisions                                                    18650800000.0    14200200000.0    12181800000.0\n",
      "Current Liabilities                                                    412515300000.0   440927800000.0   387336500000.0\n",
      "Other Current Liabilities                                               12312800000.0    42077100000.0    34063600000.0\n",
      "Current Debt And Capital Lease Obligation                              125548100000.0   187039000000.0   152577200000.0\n",
      "Current Capital Lease Obligation                                         4671600000.0     4378700000.0     3973300000.0\n",
      "Current Debt                                                           120876500000.0   182660300000.0   148603900000.0\n",
      "Current Provisions                                                       2943400000.0     3110700000.0     3448200000.0\n",
      "Payables                                                               194553500000.0   132228100000.0   144512800000.0\n",
      "Other Payable                                                           98188200000.0    55739500000.0    38212300000.0\n",
      "Dividends Payable                                                         236200000.0      237000000.0      234500000.0\n",
      "Total Tax Payable                                                        2915400000.0     2179600000.0     1470000000.0\n",
      "Accounts Payable                                                        93213700000.0    74072000000.0   104596000000.0\n",
      "Total Assets                                                          1395534900000.0  1283490400000.0  1128846000000.0\n",
      "Total Non Current Assets                                              1110881100000.0   972574700000.0   882523400000.0\n",
      "Other Non Current Assets                                                84053800000.0    85257500000.0    68105700000.0\n",
      "Non Current Prepaid Assets                                              36289500000.0    20311000000.0    15921600000.0\n",
      "Non Current Deferred Taxes Assets                                        4990900000.0     2529000000.0     3346000000.0\n",
      "Investmentin Financial Assets                                           18545900000.0    13012100000.0    11698100000.0\n",
      "Available For Sale Securities                                           18530700000.0    12996600000.0    11696500000.0\n",
      "Financial Assets Designatedas Fair Value Through Profitor Loss Total       15200000.0       15500000.0        1600000.0\n",
      "Long Term Equity Investment                                            129835100000.0   142188800000.0   125800000000.0\n",
      "Goodwill And Other Intangible Assets                                    32167500000.0    32396500000.0    32244900000.0\n",
      "Other Intangible Assets                                                 14592900000.0    13813400000.0    13661800000.0\n",
      "Goodwill                                                                17574600000.0    18583100000.0    18583100000.0\n",
      "Net PPE                                                                755541200000.0   638833700000.0   588000600000.0\n",
      "Accumulated Depreciation                                              -304598800000.0  -273333100000.0  -241656400000.0\n",
      "Gross PPE                                                             1060140000000.0   912166800000.0   829657000000.0\n",
      "Construction In Progress                                               115613100000.0    53763600000.0    46351000000.0\n",
      "Other Properties                                                       250066100000.0   214580000000.0   180547100000.0\n",
      "Machinery Furniture Equipment                                          615910700000.0   572777300000.0   539487300000.0\n",
      "Buildings And Improvements                                              43926000000.0    38306200000.0    34403500000.0\n",
      "Land And Improvements                                                   34624100000.0    32739700000.0    28868100000.0\n",
      "Properties                                                                        0.0              0.0              0.0\n",
      "Current Assets                                                         284653800000.0   310915700000.0   246322600000.0\n",
      "Other Current Assets                                                    17043000000.0    13287200000.0    14796700000.0\n",
      "Hedging Assets Current                                                    607400000.0     1150700000.0       50600000.0\n",
      "Assets Held For Sale Current                                            12009900000.0    32999400000.0    30468300000.0\n",
      "Current Deferred Assets                                                    11100000.0       11100000.0       11100000.0\n",
      "Restricted Cash                                                         58275700000.0    70167700000.0    35634600000.0\n",
      "Prepaid Assets                                                          17357400000.0    17356400000.0    15937000000.0\n",
      "Inventory                                                               44196300000.0    39428800000.0    42315200000.0\n",
      "Other Inventories                                                          18300000.0       15700000.0       16600000.0\n",
      "Finished Goods                                                           7614000000.0     5918700000.0     5324400000.0\n",
      "Work In Process                                                            20900000.0       69900000.0      119900000.0\n",
      "Raw Materials                                                           36543100000.0    33424500000.0    36854300000.0\n",
      "Other Receivables                                                       29415600000.0    26334600000.0    26758800000.0\n",
      "Taxes Receivable                                                           82000000.0        6900000.0        2900000.0\n",
      "Accounts Receivable                                                     74016900000.0    69521500000.0    59797400000.0\n",
      "Allowance For Doubtful Accounts Receivable                             -15033600000.0   -10158500000.0    -5735600000.0\n",
      "Gross Accounts Receivable                                               89050500000.0    79680000000.0    65533000000.0\n",
      "Cash Cash Equivalents And Short Term Investments                        48022300000.0    53393600000.0    34877600000.0\n",
      "Other Short Term Investments                                            14778900000.0    11496000000.0     4105200000.0\n",
      "Cash And Cash Equivalents                                               33243400000.0    41897600000.0    30772400000.0\n",
      "Cash Equivalents                                                        18598000000.0    19861500000.0    17020900000.0\n",
      "Cash Financial                                                          14645400000.0    22036100000.0    13751500000.0\n"
     ]
    }
   ],
   "source": [
    "# Fetch financial statements from Yahoo Finance\n",
    "\n",
    "def get_financial_statements(ticker):\n",
    "    # time.sleep(4) #To avoid rate limit error\n",
    "    if \".\" in ticker:\n",
    "        ticker=ticker.split(\".\")[0]\n",
    "    else:\n",
    "        ticker=ticker\n",
    "    ticker=ticker+\".NS\"    \n",
    "    company = yf.Ticker(ticker)\n",
    "    balance_sheet = company.balance_sheet\n",
    "    if balance_sheet.shape[1]>=3:\n",
    "        balance_sheet=balance_sheet.iloc[:,:3]    # Remove 4th years data\n",
    "    balance_sheet=balance_sheet.dropna(how=\"any\")\n",
    "    balance_sheet = balance_sheet.to_string()\n",
    "    \n",
    "    # cash_flow = company.cash_flow.to_string()\n",
    "    # print(balance_sheet)\n",
    "    # print(cash_flow)\n",
    "    return balance_sheet\n",
    "print(get_financial_statements(\"TATAPOWER.NS\"))"
   ]
  },
  {
   "cell_type": "markdown",
   "metadata": {},
   "source": [
    "### Custom tools"
   ]
  },
  {
   "cell_type": "code",
   "execution_count": 69,
   "metadata": {},
   "outputs": [
    {
     "data": {
      "text/plain": [
       "\"Stock Market News: Share Market Today: India stock market news, world share market news and updates on Mint. Indian investors, Sensex latest updates. Business News: Get the latest Business News, Live share, stock market updates and top news from India and across the world. Read more business news and updates on financial, economic and banking news on CNBCTV18 ... India's forex reserves decline for sixth week to its lowest in nearly 3 months. IGL faces 20% cut in gas allocation in November ... Share Market News - Find latest share market news, share market today updates, capital market, share market news live, market news international, share market news, LIVE Sensex NSE BSE and more ... Stock Market Close Highlights, Monday, October 21: India stock markets traded under pressure on Monday as investors continued to book profit at higher levels amid the ongoing Q2 earnings season. Despite a near 3-per cent surge in HDFC Bank share price, benchmark BSE Sensex and NSE Nifty50 indices closed in the negative territory today. The National Stock Exchange of India (NSE) is the leading stock exchange of India offering live equity market watch updates including nifty, sensex today, share market live charts, stock market research reports and market trends today.\""
      ]
     },
     "execution_count": 69,
     "metadata": {},
     "output_type": "execute_result"
    }
   ],
   "source": [
    "from langchain.tools import DuckDuckGoSearchRun\n",
    "search=DuckDuckGoSearchRun()\n",
    "\n",
    "search(\"Stock news India\")"
   ]
  },
  {
   "cell_type": "code",
   "execution_count": 70,
   "metadata": {},
   "outputs": [],
   "source": [
    "# Making tool list\n",
    "\n",
    "tools=[\n",
    "    Tool(\n",
    "        name=\"get stock data\",\n",
    "        func=get_stock_price,\n",
    "        description=\"Use when you are asked to evaluate or analyze a stock. This will output historic share price data. You should input the the stock ticker to it \"\n",
    "    ),\n",
    "    Tool(\n",
    "        name=\"DuckDuckGo Search\",\n",
    "        func=search.run,\n",
    "        description=\"Use only when you need to get NSE/BSE stock ticker from internet, you can also get recent stock related news. Dont use it for any other analysis or task\"\n",
    "    ),\n",
    "    Tool(\n",
    "        name=\"get recent news\",\n",
    "        func=get_recent_stock_news,\n",
    "        description=\"Use this to fetch recent news about stocks\"\n",
    "    ),\n",
    "\n",
    "    Tool(\n",
    "        name=\"get financial statements\",\n",
    "        func=get_financial_statements,\n",
    "        description=\"Use this to get financial statement of the company. With the help of this data companys historic performance can be evaluaated. You should input stock ticker to it\"\n",
    "    ) \n",
    "\n",
    "\n",
    "]"
   ]
  },
  {
   "cell_type": "markdown",
   "metadata": {},
   "source": [
    "#### Approach1- React Agent"
   ]
  },
  {
   "cell_type": "code",
   "execution_count": 71,
   "metadata": {},
   "outputs": [],
   "source": [
    "from langchain.agents import initialize_agent \n",
    "\n",
    "zero_shot_agent=initialize_agent(\n",
    "    llm=llm,\n",
    "    agent=\"zero-shot-react-description\",\n",
    "    tools=tools,\n",
    "    verbose=True,\n",
    "    max_iteration=4,\n",
    "    return_intermediate_steps=True,\n",
    "    handle_parsing_errors=True\n",
    ")\n",
    "\n"
   ]
  },
  {
   "cell_type": "code",
   "execution_count": 72,
   "metadata": {},
   "outputs": [
    {
     "name": "stdout",
     "output_type": "stream",
     "text": [
      "Answer the following questions as best you can. You have access to the following tools:\n",
      "\n",
      "get stock data(ticker, history=5) - Use when you are asked to evaluate or analyze a stock. This will output historic share price data. You should input the the stock ticker to it \n",
      "DuckDuckGo Search(tool_input: 'Union[str, dict[str, Any]]', verbose: 'Optional[bool]' = None, start_color: 'Optional[str]' = 'green', color: 'Optional[str]' = 'green', callbacks: 'Callbacks' = None, *, tags: 'Optional[list[str]]' = None, metadata: 'Optional[dict[str, Any]]' = None, run_name: 'Optional[str]' = None, run_id: 'Optional[uuid.UUID]' = None, config: 'Optional[RunnableConfig]' = None, tool_call_id: 'Optional[str]' = None, **kwargs: 'Any') -> 'Any' - Use only when you need to get NSE/BSE stock ticker from internet, you can also get recent stock related news. Dont use it for any other analysis or task\n",
      "get recent news(company_name) - Use this to fetch recent news about stocks\n",
      "get financial statements(ticker) - Use this to get financial statement of the company. With the help of this data companys historic performance can be evaluaated. You should input stock ticker to it\n",
      "\n",
      "Use the following format:\n",
      "\n",
      "Question: the input question you must answer\n",
      "Thought: you should always think about what to do\n",
      "Action: the action to take, should be one of [get stock data, DuckDuckGo Search, get recent news, get financial statements]\n",
      "Action Input: the input to the action\n",
      "Observation: the result of the action\n",
      "... (this Thought/Action/Action Input/Observation can repeat N times)\n",
      "Thought: I now know the final answer\n",
      "Final Answer: the final answer to the original input question\n",
      "\n",
      "Begin!\n",
      "\n",
      "Question: {input}\n",
      "Thought:{agent_scratchpad}\n"
     ]
    }
   ],
   "source": [
    "print(zero_shot_agent.agent.llm_chain.prompt.template) \n"
   ]
  },
  {
   "cell_type": "code",
   "execution_count": 73,
   "metadata": {},
   "outputs": [],
   "source": [
    "#Adding predefine evaluation steps in the agent Prompt\n",
    "\n",
    "new_prompt=\"\"\"You are a financial advisor. Give stock recommendations for given query.\n",
    "Everytime first you should identify the company name and get the stock ticker symbole for indian stock.\n",
    "Answer the following questions as best you can. You have access to the following tools:\n",
    "\n",
    "get stock data: Use when you are asked to evaluate or analyze a stock. This will output historic share price data. You should input the the stock ticker to it \n",
    "DuckDuckGo Search: Use only when you need to get NSE/BSE stock ticker from internet, you can also get recent stock related news. Dont use it for any other analysis or task\n",
    "get recent news: Use this to fetch recent news about stocks\n",
    "get financial statements: Use this to get financial statement of the company. With the help of this data companys historic performance can be evaluaated. You should input stock ticker to it\n",
    "\n",
    "steps- \n",
    "Note- if you fail in satisfying any of the step below, Just move to next one\n",
    "1) Get the company name and search for the \"company name + NSE/BSE stock ticker\" on internet. Dont hallucinate extract stock ticker as it is from the text. Output- stock ticker\n",
    "2) Use \"get stock data\" tool to gather stock info. Output- Stock data\n",
    "3) Get company's historic financial data using \"get financial statements\". Output- Financial statement\n",
    "4) Use this \"get recent news\" tool to search for latest stock realted news. Output- Stock news\n",
    "5) Analyze the stock based on gathered data and give detail analysis for investment choice. provide numbers and reasons to justify your answer. Output- Detailed stock Analysis\n",
    "\n",
    "Use the following format:\n",
    "\n",
    "Question: the input question you must answer\n",
    "Thought: you should always think about what to do, Also try to follow steps mentioned above\n",
    "Action: the action to take, should be one of [get stock data, DuckDuckGo Search, get recent news, get financial statements]\n",
    "Action Input: the input to the action\n",
    "Observation: the result of the action\n",
    "... (this Thought/Action/Action Input/Observation can repeat N times)\n",
    "Thought: I now know the final answer\n",
    "Final Answer: the final answer to the original input question\n",
    "Begin!\n",
    "\n",
    "Question: {input}\n",
    "Thought:{agent_scratchpad}\"\"\"\n",
    "\n"
   ]
  },
  {
   "cell_type": "code",
   "execution_count": 74,
   "metadata": {},
   "outputs": [],
   "source": [
    "#Setting up new prompt\n",
    "zero_shot_agent.agent.llm_chain.prompt.template=new_prompt\n"
   ]
  },
  {
   "cell_type": "code",
   "execution_count": null,
   "metadata": {},
   "outputs": [
    {
     "name": "stdout",
     "output_type": "stream",
     "text": [
      "\n",
      "\n",
      "\u001b[1m> Entering new AgentExecutor chain...\u001b[0m\n"
     ]
    },
    {
     "ename": "AttributeError",
     "evalue": "module 'openai' has no attribute 'error'",
     "output_type": "error",
     "traceback": [
      "\u001b[0;31m---------------------------------------------------------------------------\u001b[0m",
      "\u001b[0;31mAttributeError\u001b[0m                            Traceback (most recent call last)",
      "Cell \u001b[0;32mIn[75], line 1\u001b[0m\n\u001b[0;32m----> 1\u001b[0m \u001b[43mzero_shot_agent\u001b[49m\u001b[43m(\u001b[49m\u001b[38;5;124;43m\"\u001b[39;49m\u001b[38;5;124;43mIs Bajaj Finance a good investment choice right now?\u001b[39;49m\u001b[38;5;124;43m\"\u001b[39;49m\u001b[43m)\u001b[49m\n",
      "File \u001b[0;32m/Library/Frameworks/Python.framework/Versions/3.12/lib/python3.12/site-packages/langchain_core/_api/deprecation.py:182\u001b[0m, in \u001b[0;36mdeprecated.<locals>.deprecate.<locals>.warning_emitting_wrapper\u001b[0;34m(*args, **kwargs)\u001b[0m\n\u001b[1;32m    180\u001b[0m     warned \u001b[38;5;241m=\u001b[39m \u001b[38;5;28;01mTrue\u001b[39;00m\n\u001b[1;32m    181\u001b[0m     emit_warning()\n\u001b[0;32m--> 182\u001b[0m \u001b[38;5;28;01mreturn\u001b[39;00m \u001b[43mwrapped\u001b[49m\u001b[43m(\u001b[49m\u001b[38;5;241;43m*\u001b[39;49m\u001b[43margs\u001b[49m\u001b[43m,\u001b[49m\u001b[43m \u001b[49m\u001b[38;5;241;43m*\u001b[39;49m\u001b[38;5;241;43m*\u001b[39;49m\u001b[43mkwargs\u001b[49m\u001b[43m)\u001b[49m\n",
      "File \u001b[0;32m/Library/Frameworks/Python.framework/Versions/3.12/lib/python3.12/site-packages/langchain/chains/base.py:389\u001b[0m, in \u001b[0;36mChain.__call__\u001b[0;34m(self, inputs, return_only_outputs, callbacks, tags, metadata, run_name, include_run_info)\u001b[0m\n\u001b[1;32m    357\u001b[0m \u001b[38;5;250m\u001b[39m\u001b[38;5;124;03m\"\"\"Execute the chain.\u001b[39;00m\n\u001b[1;32m    358\u001b[0m \n\u001b[1;32m    359\u001b[0m \u001b[38;5;124;03mArgs:\u001b[39;00m\n\u001b[0;32m   (...)\u001b[0m\n\u001b[1;32m    380\u001b[0m \u001b[38;5;124;03m        `Chain.output_keys`.\u001b[39;00m\n\u001b[1;32m    381\u001b[0m \u001b[38;5;124;03m\"\"\"\u001b[39;00m\n\u001b[1;32m    382\u001b[0m config \u001b[38;5;241m=\u001b[39m {\n\u001b[1;32m    383\u001b[0m     \u001b[38;5;124m\"\u001b[39m\u001b[38;5;124mcallbacks\u001b[39m\u001b[38;5;124m\"\u001b[39m: callbacks,\n\u001b[1;32m    384\u001b[0m     \u001b[38;5;124m\"\u001b[39m\u001b[38;5;124mtags\u001b[39m\u001b[38;5;124m\"\u001b[39m: tags,\n\u001b[1;32m    385\u001b[0m     \u001b[38;5;124m\"\u001b[39m\u001b[38;5;124mmetadata\u001b[39m\u001b[38;5;124m\"\u001b[39m: metadata,\n\u001b[1;32m    386\u001b[0m     \u001b[38;5;124m\"\u001b[39m\u001b[38;5;124mrun_name\u001b[39m\u001b[38;5;124m\"\u001b[39m: run_name,\n\u001b[1;32m    387\u001b[0m }\n\u001b[0;32m--> 389\u001b[0m \u001b[38;5;28;01mreturn\u001b[39;00m \u001b[38;5;28;43mself\u001b[39;49m\u001b[38;5;241;43m.\u001b[39;49m\u001b[43minvoke\u001b[49m\u001b[43m(\u001b[49m\n\u001b[1;32m    390\u001b[0m \u001b[43m    \u001b[49m\u001b[43minputs\u001b[49m\u001b[43m,\u001b[49m\n\u001b[1;32m    391\u001b[0m \u001b[43m    \u001b[49m\u001b[43mcast\u001b[49m\u001b[43m(\u001b[49m\u001b[43mRunnableConfig\u001b[49m\u001b[43m,\u001b[49m\u001b[43m \u001b[49m\u001b[43m{\u001b[49m\u001b[43mk\u001b[49m\u001b[43m:\u001b[49m\u001b[43m \u001b[49m\u001b[43mv\u001b[49m\u001b[43m \u001b[49m\u001b[38;5;28;43;01mfor\u001b[39;49;00m\u001b[43m \u001b[49m\u001b[43mk\u001b[49m\u001b[43m,\u001b[49m\u001b[43m \u001b[49m\u001b[43mv\u001b[49m\u001b[43m \u001b[49m\u001b[38;5;129;43;01min\u001b[39;49;00m\u001b[43m \u001b[49m\u001b[43mconfig\u001b[49m\u001b[38;5;241;43m.\u001b[39;49m\u001b[43mitems\u001b[49m\u001b[43m(\u001b[49m\u001b[43m)\u001b[49m\u001b[43m \u001b[49m\u001b[38;5;28;43;01mif\u001b[39;49;00m\u001b[43m \u001b[49m\u001b[43mv\u001b[49m\u001b[43m \u001b[49m\u001b[38;5;129;43;01mis\u001b[39;49;00m\u001b[43m \u001b[49m\u001b[38;5;129;43;01mnot\u001b[39;49;00m\u001b[43m \u001b[49m\u001b[38;5;28;43;01mNone\u001b[39;49;00m\u001b[43m}\u001b[49m\u001b[43m)\u001b[49m\u001b[43m,\u001b[49m\n\u001b[1;32m    392\u001b[0m \u001b[43m    \u001b[49m\u001b[43mreturn_only_outputs\u001b[49m\u001b[38;5;241;43m=\u001b[39;49m\u001b[43mreturn_only_outputs\u001b[49m\u001b[43m,\u001b[49m\n\u001b[1;32m    393\u001b[0m \u001b[43m    \u001b[49m\u001b[43minclude_run_info\u001b[49m\u001b[38;5;241;43m=\u001b[39;49m\u001b[43minclude_run_info\u001b[49m\u001b[43m,\u001b[49m\n\u001b[1;32m    394\u001b[0m \u001b[43m\u001b[49m\u001b[43m)\u001b[49m\n",
      "File \u001b[0;32m/Library/Frameworks/Python.framework/Versions/3.12/lib/python3.12/site-packages/langchain/chains/base.py:170\u001b[0m, in \u001b[0;36mChain.invoke\u001b[0;34m(self, input, config, **kwargs)\u001b[0m\n\u001b[1;32m    168\u001b[0m \u001b[38;5;28;01mexcept\u001b[39;00m \u001b[38;5;167;01mBaseException\u001b[39;00m \u001b[38;5;28;01mas\u001b[39;00m e:\n\u001b[1;32m    169\u001b[0m     run_manager\u001b[38;5;241m.\u001b[39mon_chain_error(e)\n\u001b[0;32m--> 170\u001b[0m     \u001b[38;5;28;01mraise\u001b[39;00m e\n\u001b[1;32m    171\u001b[0m run_manager\u001b[38;5;241m.\u001b[39mon_chain_end(outputs)\n\u001b[1;32m    173\u001b[0m \u001b[38;5;28;01mif\u001b[39;00m include_run_info:\n",
      "File \u001b[0;32m/Library/Frameworks/Python.framework/Versions/3.12/lib/python3.12/site-packages/langchain/chains/base.py:160\u001b[0m, in \u001b[0;36mChain.invoke\u001b[0;34m(self, input, config, **kwargs)\u001b[0m\n\u001b[1;32m    157\u001b[0m \u001b[38;5;28;01mtry\u001b[39;00m:\n\u001b[1;32m    158\u001b[0m     \u001b[38;5;28mself\u001b[39m\u001b[38;5;241m.\u001b[39m_validate_inputs(inputs)\n\u001b[1;32m    159\u001b[0m     outputs \u001b[38;5;241m=\u001b[39m (\n\u001b[0;32m--> 160\u001b[0m         \u001b[38;5;28;43mself\u001b[39;49m\u001b[38;5;241;43m.\u001b[39;49m\u001b[43m_call\u001b[49m\u001b[43m(\u001b[49m\u001b[43minputs\u001b[49m\u001b[43m,\u001b[49m\u001b[43m \u001b[49m\u001b[43mrun_manager\u001b[49m\u001b[38;5;241;43m=\u001b[39;49m\u001b[43mrun_manager\u001b[49m\u001b[43m)\u001b[49m\n\u001b[1;32m    161\u001b[0m         \u001b[38;5;28;01mif\u001b[39;00m new_arg_supported\n\u001b[1;32m    162\u001b[0m         \u001b[38;5;28;01melse\u001b[39;00m \u001b[38;5;28mself\u001b[39m\u001b[38;5;241m.\u001b[39m_call(inputs)\n\u001b[1;32m    163\u001b[0m     )\n\u001b[1;32m    165\u001b[0m     final_outputs: Dict[\u001b[38;5;28mstr\u001b[39m, Any] \u001b[38;5;241m=\u001b[39m \u001b[38;5;28mself\u001b[39m\u001b[38;5;241m.\u001b[39mprep_outputs(\n\u001b[1;32m    166\u001b[0m         inputs, outputs, return_only_outputs\n\u001b[1;32m    167\u001b[0m     )\n\u001b[1;32m    168\u001b[0m \u001b[38;5;28;01mexcept\u001b[39;00m \u001b[38;5;167;01mBaseException\u001b[39;00m \u001b[38;5;28;01mas\u001b[39;00m e:\n",
      "File \u001b[0;32m/Library/Frameworks/Python.framework/Versions/3.12/lib/python3.12/site-packages/langchain/agents/agent.py:1629\u001b[0m, in \u001b[0;36mAgentExecutor._call\u001b[0;34m(self, inputs, run_manager)\u001b[0m\n\u001b[1;32m   1627\u001b[0m \u001b[38;5;66;03m# We now enter the agent loop (until it returns something).\u001b[39;00m\n\u001b[1;32m   1628\u001b[0m \u001b[38;5;28;01mwhile\u001b[39;00m \u001b[38;5;28mself\u001b[39m\u001b[38;5;241m.\u001b[39m_should_continue(iterations, time_elapsed):\n\u001b[0;32m-> 1629\u001b[0m     next_step_output \u001b[38;5;241m=\u001b[39m \u001b[38;5;28;43mself\u001b[39;49m\u001b[38;5;241;43m.\u001b[39;49m\u001b[43m_take_next_step\u001b[49m\u001b[43m(\u001b[49m\n\u001b[1;32m   1630\u001b[0m \u001b[43m        \u001b[49m\u001b[43mname_to_tool_map\u001b[49m\u001b[43m,\u001b[49m\n\u001b[1;32m   1631\u001b[0m \u001b[43m        \u001b[49m\u001b[43mcolor_mapping\u001b[49m\u001b[43m,\u001b[49m\n\u001b[1;32m   1632\u001b[0m \u001b[43m        \u001b[49m\u001b[43minputs\u001b[49m\u001b[43m,\u001b[49m\n\u001b[1;32m   1633\u001b[0m \u001b[43m        \u001b[49m\u001b[43mintermediate_steps\u001b[49m\u001b[43m,\u001b[49m\n\u001b[1;32m   1634\u001b[0m \u001b[43m        \u001b[49m\u001b[43mrun_manager\u001b[49m\u001b[38;5;241;43m=\u001b[39;49m\u001b[43mrun_manager\u001b[49m\u001b[43m,\u001b[49m\n\u001b[1;32m   1635\u001b[0m \u001b[43m    \u001b[49m\u001b[43m)\u001b[49m\n\u001b[1;32m   1636\u001b[0m     \u001b[38;5;28;01mif\u001b[39;00m \u001b[38;5;28misinstance\u001b[39m(next_step_output, AgentFinish):\n\u001b[1;32m   1637\u001b[0m         \u001b[38;5;28;01mreturn\u001b[39;00m \u001b[38;5;28mself\u001b[39m\u001b[38;5;241m.\u001b[39m_return(\n\u001b[1;32m   1638\u001b[0m             next_step_output, intermediate_steps, run_manager\u001b[38;5;241m=\u001b[39mrun_manager\n\u001b[1;32m   1639\u001b[0m         )\n",
      "File \u001b[0;32m/Library/Frameworks/Python.framework/Versions/3.12/lib/python3.12/site-packages/langchain/agents/agent.py:1335\u001b[0m, in \u001b[0;36mAgentExecutor._take_next_step\u001b[0;34m(self, name_to_tool_map, color_mapping, inputs, intermediate_steps, run_manager)\u001b[0m\n\u001b[1;32m   1326\u001b[0m \u001b[38;5;28;01mdef\u001b[39;00m \u001b[38;5;21m_take_next_step\u001b[39m(\n\u001b[1;32m   1327\u001b[0m     \u001b[38;5;28mself\u001b[39m,\n\u001b[1;32m   1328\u001b[0m     name_to_tool_map: Dict[\u001b[38;5;28mstr\u001b[39m, BaseTool],\n\u001b[0;32m   (...)\u001b[0m\n\u001b[1;32m   1332\u001b[0m     run_manager: Optional[CallbackManagerForChainRun] \u001b[38;5;241m=\u001b[39m \u001b[38;5;28;01mNone\u001b[39;00m,\n\u001b[1;32m   1333\u001b[0m ) \u001b[38;5;241m-\u001b[39m\u001b[38;5;241m>\u001b[39m Union[AgentFinish, List[Tuple[AgentAction, \u001b[38;5;28mstr\u001b[39m]]]:\n\u001b[1;32m   1334\u001b[0m     \u001b[38;5;28;01mreturn\u001b[39;00m \u001b[38;5;28mself\u001b[39m\u001b[38;5;241m.\u001b[39m_consume_next_step(\n\u001b[0;32m-> 1335\u001b[0m         \u001b[43m[\u001b[49m\n\u001b[1;32m   1336\u001b[0m \u001b[43m            \u001b[49m\u001b[43ma\u001b[49m\n\u001b[1;32m   1337\u001b[0m \u001b[43m            \u001b[49m\u001b[38;5;28;43;01mfor\u001b[39;49;00m\u001b[43m \u001b[49m\u001b[43ma\u001b[49m\u001b[43m \u001b[49m\u001b[38;5;129;43;01min\u001b[39;49;00m\u001b[43m \u001b[49m\u001b[38;5;28;43mself\u001b[39;49m\u001b[38;5;241;43m.\u001b[39;49m\u001b[43m_iter_next_step\u001b[49m\u001b[43m(\u001b[49m\n\u001b[1;32m   1338\u001b[0m \u001b[43m                \u001b[49m\u001b[43mname_to_tool_map\u001b[49m\u001b[43m,\u001b[49m\n\u001b[1;32m   1339\u001b[0m \u001b[43m                \u001b[49m\u001b[43mcolor_mapping\u001b[49m\u001b[43m,\u001b[49m\n\u001b[1;32m   1340\u001b[0m \u001b[43m                \u001b[49m\u001b[43minputs\u001b[49m\u001b[43m,\u001b[49m\n\u001b[1;32m   1341\u001b[0m \u001b[43m                \u001b[49m\u001b[43mintermediate_steps\u001b[49m\u001b[43m,\u001b[49m\n\u001b[1;32m   1342\u001b[0m \u001b[43m                \u001b[49m\u001b[43mrun_manager\u001b[49m\u001b[43m,\u001b[49m\n\u001b[1;32m   1343\u001b[0m \u001b[43m            \u001b[49m\u001b[43m)\u001b[49m\n\u001b[1;32m   1344\u001b[0m \u001b[43m        \u001b[49m\u001b[43m]\u001b[49m\n\u001b[1;32m   1345\u001b[0m     )\n",
      "File \u001b[0;32m/Library/Frameworks/Python.framework/Versions/3.12/lib/python3.12/site-packages/langchain/agents/agent.py:1363\u001b[0m, in \u001b[0;36mAgentExecutor._iter_next_step\u001b[0;34m(self, name_to_tool_map, color_mapping, inputs, intermediate_steps, run_manager)\u001b[0m\n\u001b[1;32m   1360\u001b[0m     intermediate_steps \u001b[38;5;241m=\u001b[39m \u001b[38;5;28mself\u001b[39m\u001b[38;5;241m.\u001b[39m_prepare_intermediate_steps(intermediate_steps)\n\u001b[1;32m   1362\u001b[0m     \u001b[38;5;66;03m# Call the LLM to see what to do.\u001b[39;00m\n\u001b[0;32m-> 1363\u001b[0m     output \u001b[38;5;241m=\u001b[39m \u001b[38;5;28;43mself\u001b[39;49m\u001b[38;5;241;43m.\u001b[39;49m\u001b[43m_action_agent\u001b[49m\u001b[38;5;241;43m.\u001b[39;49m\u001b[43mplan\u001b[49m\u001b[43m(\u001b[49m\n\u001b[1;32m   1364\u001b[0m \u001b[43m        \u001b[49m\u001b[43mintermediate_steps\u001b[49m\u001b[43m,\u001b[49m\n\u001b[1;32m   1365\u001b[0m \u001b[43m        \u001b[49m\u001b[43mcallbacks\u001b[49m\u001b[38;5;241;43m=\u001b[39;49m\u001b[43mrun_manager\u001b[49m\u001b[38;5;241;43m.\u001b[39;49m\u001b[43mget_child\u001b[49m\u001b[43m(\u001b[49m\u001b[43m)\u001b[49m\u001b[43m \u001b[49m\u001b[38;5;28;43;01mif\u001b[39;49;00m\u001b[43m \u001b[49m\u001b[43mrun_manager\u001b[49m\u001b[43m \u001b[49m\u001b[38;5;28;43;01melse\u001b[39;49;00m\u001b[43m \u001b[49m\u001b[38;5;28;43;01mNone\u001b[39;49;00m\u001b[43m,\u001b[49m\n\u001b[1;32m   1366\u001b[0m \u001b[43m        \u001b[49m\u001b[38;5;241;43m*\u001b[39;49m\u001b[38;5;241;43m*\u001b[39;49m\u001b[43minputs\u001b[49m\u001b[43m,\u001b[49m\n\u001b[1;32m   1367\u001b[0m \u001b[43m    \u001b[49m\u001b[43m)\u001b[49m\n\u001b[1;32m   1368\u001b[0m \u001b[38;5;28;01mexcept\u001b[39;00m OutputParserException \u001b[38;5;28;01mas\u001b[39;00m e:\n\u001b[1;32m   1369\u001b[0m     \u001b[38;5;28;01mif\u001b[39;00m \u001b[38;5;28misinstance\u001b[39m(\u001b[38;5;28mself\u001b[39m\u001b[38;5;241m.\u001b[39mhandle_parsing_errors, \u001b[38;5;28mbool\u001b[39m):\n",
      "File \u001b[0;32m/Library/Frameworks/Python.framework/Versions/3.12/lib/python3.12/site-packages/langchain/agents/agent.py:809\u001b[0m, in \u001b[0;36mAgent.plan\u001b[0;34m(self, intermediate_steps, callbacks, **kwargs)\u001b[0m\n\u001b[1;32m    797\u001b[0m \u001b[38;5;250m\u001b[39m\u001b[38;5;124;03m\"\"\"Given input, decided what to do.\u001b[39;00m\n\u001b[1;32m    798\u001b[0m \n\u001b[1;32m    799\u001b[0m \u001b[38;5;124;03mArgs:\u001b[39;00m\n\u001b[0;32m   (...)\u001b[0m\n\u001b[1;32m    806\u001b[0m \u001b[38;5;124;03m    Action specifying what tool to use.\u001b[39;00m\n\u001b[1;32m    807\u001b[0m \u001b[38;5;124;03m\"\"\"\u001b[39;00m\n\u001b[1;32m    808\u001b[0m full_inputs \u001b[38;5;241m=\u001b[39m \u001b[38;5;28mself\u001b[39m\u001b[38;5;241m.\u001b[39mget_full_inputs(intermediate_steps, \u001b[38;5;241m*\u001b[39m\u001b[38;5;241m*\u001b[39mkwargs)\n\u001b[0;32m--> 809\u001b[0m full_output \u001b[38;5;241m=\u001b[39m \u001b[38;5;28;43mself\u001b[39;49m\u001b[38;5;241;43m.\u001b[39;49m\u001b[43mllm_chain\u001b[49m\u001b[38;5;241;43m.\u001b[39;49m\u001b[43mpredict\u001b[49m\u001b[43m(\u001b[49m\u001b[43mcallbacks\u001b[49m\u001b[38;5;241;43m=\u001b[39;49m\u001b[43mcallbacks\u001b[49m\u001b[43m,\u001b[49m\u001b[43m \u001b[49m\u001b[38;5;241;43m*\u001b[39;49m\u001b[38;5;241;43m*\u001b[39;49m\u001b[43mfull_inputs\u001b[49m\u001b[43m)\u001b[49m\n\u001b[1;32m    810\u001b[0m \u001b[38;5;28;01mreturn\u001b[39;00m \u001b[38;5;28mself\u001b[39m\u001b[38;5;241m.\u001b[39moutput_parser\u001b[38;5;241m.\u001b[39mparse(full_output)\n",
      "File \u001b[0;32m/Library/Frameworks/Python.framework/Versions/3.12/lib/python3.12/site-packages/langchain/chains/llm.py:318\u001b[0m, in \u001b[0;36mLLMChain.predict\u001b[0;34m(self, callbacks, **kwargs)\u001b[0m\n\u001b[1;32m    303\u001b[0m \u001b[38;5;28;01mdef\u001b[39;00m \u001b[38;5;21mpredict\u001b[39m(\u001b[38;5;28mself\u001b[39m, callbacks: Callbacks \u001b[38;5;241m=\u001b[39m \u001b[38;5;28;01mNone\u001b[39;00m, \u001b[38;5;241m*\u001b[39m\u001b[38;5;241m*\u001b[39mkwargs: Any) \u001b[38;5;241m-\u001b[39m\u001b[38;5;241m>\u001b[39m \u001b[38;5;28mstr\u001b[39m:\n\u001b[1;32m    304\u001b[0m \u001b[38;5;250m    \u001b[39m\u001b[38;5;124;03m\"\"\"Format prompt with kwargs and pass to LLM.\u001b[39;00m\n\u001b[1;32m    305\u001b[0m \n\u001b[1;32m    306\u001b[0m \u001b[38;5;124;03m    Args:\u001b[39;00m\n\u001b[0;32m   (...)\u001b[0m\n\u001b[1;32m    316\u001b[0m \u001b[38;5;124;03m            completion = llm.predict(adjective=\"funny\")\u001b[39;00m\n\u001b[1;32m    317\u001b[0m \u001b[38;5;124;03m    \"\"\"\u001b[39;00m\n\u001b[0;32m--> 318\u001b[0m     \u001b[38;5;28;01mreturn\u001b[39;00m \u001b[38;5;28;43mself\u001b[39;49m\u001b[43m(\u001b[49m\u001b[43mkwargs\u001b[49m\u001b[43m,\u001b[49m\u001b[43m \u001b[49m\u001b[43mcallbacks\u001b[49m\u001b[38;5;241;43m=\u001b[39;49m\u001b[43mcallbacks\u001b[49m\u001b[43m)\u001b[49m[\u001b[38;5;28mself\u001b[39m\u001b[38;5;241m.\u001b[39moutput_key]\n",
      "File \u001b[0;32m/Library/Frameworks/Python.framework/Versions/3.12/lib/python3.12/site-packages/langchain_core/_api/deprecation.py:182\u001b[0m, in \u001b[0;36mdeprecated.<locals>.deprecate.<locals>.warning_emitting_wrapper\u001b[0;34m(*args, **kwargs)\u001b[0m\n\u001b[1;32m    180\u001b[0m     warned \u001b[38;5;241m=\u001b[39m \u001b[38;5;28;01mTrue\u001b[39;00m\n\u001b[1;32m    181\u001b[0m     emit_warning()\n\u001b[0;32m--> 182\u001b[0m \u001b[38;5;28;01mreturn\u001b[39;00m \u001b[43mwrapped\u001b[49m\u001b[43m(\u001b[49m\u001b[38;5;241;43m*\u001b[39;49m\u001b[43margs\u001b[49m\u001b[43m,\u001b[49m\u001b[43m \u001b[49m\u001b[38;5;241;43m*\u001b[39;49m\u001b[38;5;241;43m*\u001b[39;49m\u001b[43mkwargs\u001b[49m\u001b[43m)\u001b[49m\n",
      "File \u001b[0;32m/Library/Frameworks/Python.framework/Versions/3.12/lib/python3.12/site-packages/langchain/chains/base.py:389\u001b[0m, in \u001b[0;36mChain.__call__\u001b[0;34m(self, inputs, return_only_outputs, callbacks, tags, metadata, run_name, include_run_info)\u001b[0m\n\u001b[1;32m    357\u001b[0m \u001b[38;5;250m\u001b[39m\u001b[38;5;124;03m\"\"\"Execute the chain.\u001b[39;00m\n\u001b[1;32m    358\u001b[0m \n\u001b[1;32m    359\u001b[0m \u001b[38;5;124;03mArgs:\u001b[39;00m\n\u001b[0;32m   (...)\u001b[0m\n\u001b[1;32m    380\u001b[0m \u001b[38;5;124;03m        `Chain.output_keys`.\u001b[39;00m\n\u001b[1;32m    381\u001b[0m \u001b[38;5;124;03m\"\"\"\u001b[39;00m\n\u001b[1;32m    382\u001b[0m config \u001b[38;5;241m=\u001b[39m {\n\u001b[1;32m    383\u001b[0m     \u001b[38;5;124m\"\u001b[39m\u001b[38;5;124mcallbacks\u001b[39m\u001b[38;5;124m\"\u001b[39m: callbacks,\n\u001b[1;32m    384\u001b[0m     \u001b[38;5;124m\"\u001b[39m\u001b[38;5;124mtags\u001b[39m\u001b[38;5;124m\"\u001b[39m: tags,\n\u001b[1;32m    385\u001b[0m     \u001b[38;5;124m\"\u001b[39m\u001b[38;5;124mmetadata\u001b[39m\u001b[38;5;124m\"\u001b[39m: metadata,\n\u001b[1;32m    386\u001b[0m     \u001b[38;5;124m\"\u001b[39m\u001b[38;5;124mrun_name\u001b[39m\u001b[38;5;124m\"\u001b[39m: run_name,\n\u001b[1;32m    387\u001b[0m }\n\u001b[0;32m--> 389\u001b[0m \u001b[38;5;28;01mreturn\u001b[39;00m \u001b[38;5;28;43mself\u001b[39;49m\u001b[38;5;241;43m.\u001b[39;49m\u001b[43minvoke\u001b[49m\u001b[43m(\u001b[49m\n\u001b[1;32m    390\u001b[0m \u001b[43m    \u001b[49m\u001b[43minputs\u001b[49m\u001b[43m,\u001b[49m\n\u001b[1;32m    391\u001b[0m \u001b[43m    \u001b[49m\u001b[43mcast\u001b[49m\u001b[43m(\u001b[49m\u001b[43mRunnableConfig\u001b[49m\u001b[43m,\u001b[49m\u001b[43m \u001b[49m\u001b[43m{\u001b[49m\u001b[43mk\u001b[49m\u001b[43m:\u001b[49m\u001b[43m \u001b[49m\u001b[43mv\u001b[49m\u001b[43m \u001b[49m\u001b[38;5;28;43;01mfor\u001b[39;49;00m\u001b[43m \u001b[49m\u001b[43mk\u001b[49m\u001b[43m,\u001b[49m\u001b[43m \u001b[49m\u001b[43mv\u001b[49m\u001b[43m \u001b[49m\u001b[38;5;129;43;01min\u001b[39;49;00m\u001b[43m \u001b[49m\u001b[43mconfig\u001b[49m\u001b[38;5;241;43m.\u001b[39;49m\u001b[43mitems\u001b[49m\u001b[43m(\u001b[49m\u001b[43m)\u001b[49m\u001b[43m \u001b[49m\u001b[38;5;28;43;01mif\u001b[39;49;00m\u001b[43m \u001b[49m\u001b[43mv\u001b[49m\u001b[43m \u001b[49m\u001b[38;5;129;43;01mis\u001b[39;49;00m\u001b[43m \u001b[49m\u001b[38;5;129;43;01mnot\u001b[39;49;00m\u001b[43m \u001b[49m\u001b[38;5;28;43;01mNone\u001b[39;49;00m\u001b[43m}\u001b[49m\u001b[43m)\u001b[49m\u001b[43m,\u001b[49m\n\u001b[1;32m    392\u001b[0m \u001b[43m    \u001b[49m\u001b[43mreturn_only_outputs\u001b[49m\u001b[38;5;241;43m=\u001b[39;49m\u001b[43mreturn_only_outputs\u001b[49m\u001b[43m,\u001b[49m\n\u001b[1;32m    393\u001b[0m \u001b[43m    \u001b[49m\u001b[43minclude_run_info\u001b[49m\u001b[38;5;241;43m=\u001b[39;49m\u001b[43minclude_run_info\u001b[49m\u001b[43m,\u001b[49m\n\u001b[1;32m    394\u001b[0m \u001b[43m\u001b[49m\u001b[43m)\u001b[49m\n",
      "File \u001b[0;32m/Library/Frameworks/Python.framework/Versions/3.12/lib/python3.12/site-packages/langchain/chains/base.py:170\u001b[0m, in \u001b[0;36mChain.invoke\u001b[0;34m(self, input, config, **kwargs)\u001b[0m\n\u001b[1;32m    168\u001b[0m \u001b[38;5;28;01mexcept\u001b[39;00m \u001b[38;5;167;01mBaseException\u001b[39;00m \u001b[38;5;28;01mas\u001b[39;00m e:\n\u001b[1;32m    169\u001b[0m     run_manager\u001b[38;5;241m.\u001b[39mon_chain_error(e)\n\u001b[0;32m--> 170\u001b[0m     \u001b[38;5;28;01mraise\u001b[39;00m e\n\u001b[1;32m    171\u001b[0m run_manager\u001b[38;5;241m.\u001b[39mon_chain_end(outputs)\n\u001b[1;32m    173\u001b[0m \u001b[38;5;28;01mif\u001b[39;00m include_run_info:\n",
      "File \u001b[0;32m/Library/Frameworks/Python.framework/Versions/3.12/lib/python3.12/site-packages/langchain/chains/base.py:160\u001b[0m, in \u001b[0;36mChain.invoke\u001b[0;34m(self, input, config, **kwargs)\u001b[0m\n\u001b[1;32m    157\u001b[0m \u001b[38;5;28;01mtry\u001b[39;00m:\n\u001b[1;32m    158\u001b[0m     \u001b[38;5;28mself\u001b[39m\u001b[38;5;241m.\u001b[39m_validate_inputs(inputs)\n\u001b[1;32m    159\u001b[0m     outputs \u001b[38;5;241m=\u001b[39m (\n\u001b[0;32m--> 160\u001b[0m         \u001b[38;5;28;43mself\u001b[39;49m\u001b[38;5;241;43m.\u001b[39;49m\u001b[43m_call\u001b[49m\u001b[43m(\u001b[49m\u001b[43minputs\u001b[49m\u001b[43m,\u001b[49m\u001b[43m \u001b[49m\u001b[43mrun_manager\u001b[49m\u001b[38;5;241;43m=\u001b[39;49m\u001b[43mrun_manager\u001b[49m\u001b[43m)\u001b[49m\n\u001b[1;32m    161\u001b[0m         \u001b[38;5;28;01mif\u001b[39;00m new_arg_supported\n\u001b[1;32m    162\u001b[0m         \u001b[38;5;28;01melse\u001b[39;00m \u001b[38;5;28mself\u001b[39m\u001b[38;5;241m.\u001b[39m_call(inputs)\n\u001b[1;32m    163\u001b[0m     )\n\u001b[1;32m    165\u001b[0m     final_outputs: Dict[\u001b[38;5;28mstr\u001b[39m, Any] \u001b[38;5;241m=\u001b[39m \u001b[38;5;28mself\u001b[39m\u001b[38;5;241m.\u001b[39mprep_outputs(\n\u001b[1;32m    166\u001b[0m         inputs, outputs, return_only_outputs\n\u001b[1;32m    167\u001b[0m     )\n\u001b[1;32m    168\u001b[0m \u001b[38;5;28;01mexcept\u001b[39;00m \u001b[38;5;167;01mBaseException\u001b[39;00m \u001b[38;5;28;01mas\u001b[39;00m e:\n",
      "File \u001b[0;32m/Library/Frameworks/Python.framework/Versions/3.12/lib/python3.12/site-packages/langchain/chains/llm.py:126\u001b[0m, in \u001b[0;36mLLMChain._call\u001b[0;34m(self, inputs, run_manager)\u001b[0m\n\u001b[1;32m    121\u001b[0m \u001b[38;5;28;01mdef\u001b[39;00m \u001b[38;5;21m_call\u001b[39m(\n\u001b[1;32m    122\u001b[0m     \u001b[38;5;28mself\u001b[39m,\n\u001b[1;32m    123\u001b[0m     inputs: Dict[\u001b[38;5;28mstr\u001b[39m, Any],\n\u001b[1;32m    124\u001b[0m     run_manager: Optional[CallbackManagerForChainRun] \u001b[38;5;241m=\u001b[39m \u001b[38;5;28;01mNone\u001b[39;00m,\n\u001b[1;32m    125\u001b[0m ) \u001b[38;5;241m-\u001b[39m\u001b[38;5;241m>\u001b[39m Dict[\u001b[38;5;28mstr\u001b[39m, \u001b[38;5;28mstr\u001b[39m]:\n\u001b[0;32m--> 126\u001b[0m     response \u001b[38;5;241m=\u001b[39m \u001b[38;5;28;43mself\u001b[39;49m\u001b[38;5;241;43m.\u001b[39;49m\u001b[43mgenerate\u001b[49m\u001b[43m(\u001b[49m\u001b[43m[\u001b[49m\u001b[43minputs\u001b[49m\u001b[43m]\u001b[49m\u001b[43m,\u001b[49m\u001b[43m \u001b[49m\u001b[43mrun_manager\u001b[49m\u001b[38;5;241;43m=\u001b[39;49m\u001b[43mrun_manager\u001b[49m\u001b[43m)\u001b[49m\n\u001b[1;32m    127\u001b[0m     \u001b[38;5;28;01mreturn\u001b[39;00m \u001b[38;5;28mself\u001b[39m\u001b[38;5;241m.\u001b[39mcreate_outputs(response)[\u001b[38;5;241m0\u001b[39m]\n",
      "File \u001b[0;32m/Library/Frameworks/Python.framework/Versions/3.12/lib/python3.12/site-packages/langchain/chains/llm.py:138\u001b[0m, in \u001b[0;36mLLMChain.generate\u001b[0;34m(self, input_list, run_manager)\u001b[0m\n\u001b[1;32m    136\u001b[0m callbacks \u001b[38;5;241m=\u001b[39m run_manager\u001b[38;5;241m.\u001b[39mget_child() \u001b[38;5;28;01mif\u001b[39;00m run_manager \u001b[38;5;28;01melse\u001b[39;00m \u001b[38;5;28;01mNone\u001b[39;00m\n\u001b[1;32m    137\u001b[0m \u001b[38;5;28;01mif\u001b[39;00m \u001b[38;5;28misinstance\u001b[39m(\u001b[38;5;28mself\u001b[39m\u001b[38;5;241m.\u001b[39mllm, BaseLanguageModel):\n\u001b[0;32m--> 138\u001b[0m     \u001b[38;5;28;01mreturn\u001b[39;00m \u001b[38;5;28;43mself\u001b[39;49m\u001b[38;5;241;43m.\u001b[39;49m\u001b[43mllm\u001b[49m\u001b[38;5;241;43m.\u001b[39;49m\u001b[43mgenerate_prompt\u001b[49m\u001b[43m(\u001b[49m\n\u001b[1;32m    139\u001b[0m \u001b[43m        \u001b[49m\u001b[43mprompts\u001b[49m\u001b[43m,\u001b[49m\n\u001b[1;32m    140\u001b[0m \u001b[43m        \u001b[49m\u001b[43mstop\u001b[49m\u001b[43m,\u001b[49m\n\u001b[1;32m    141\u001b[0m \u001b[43m        \u001b[49m\u001b[43mcallbacks\u001b[49m\u001b[38;5;241;43m=\u001b[39;49m\u001b[43mcallbacks\u001b[49m\u001b[43m,\u001b[49m\n\u001b[1;32m    142\u001b[0m \u001b[43m        \u001b[49m\u001b[38;5;241;43m*\u001b[39;49m\u001b[38;5;241;43m*\u001b[39;49m\u001b[38;5;28;43mself\u001b[39;49m\u001b[38;5;241;43m.\u001b[39;49m\u001b[43mllm_kwargs\u001b[49m\u001b[43m,\u001b[49m\n\u001b[1;32m    143\u001b[0m \u001b[43m    \u001b[49m\u001b[43m)\u001b[49m\n\u001b[1;32m    144\u001b[0m \u001b[38;5;28;01melse\u001b[39;00m:\n\u001b[1;32m    145\u001b[0m     results \u001b[38;5;241m=\u001b[39m \u001b[38;5;28mself\u001b[39m\u001b[38;5;241m.\u001b[39mllm\u001b[38;5;241m.\u001b[39mbind(stop\u001b[38;5;241m=\u001b[39mstop, \u001b[38;5;241m*\u001b[39m\u001b[38;5;241m*\u001b[39m\u001b[38;5;28mself\u001b[39m\u001b[38;5;241m.\u001b[39mllm_kwargs)\u001b[38;5;241m.\u001b[39mbatch(\n\u001b[1;32m    146\u001b[0m         cast(List, prompts), {\u001b[38;5;124m\"\u001b[39m\u001b[38;5;124mcallbacks\u001b[39m\u001b[38;5;124m\"\u001b[39m: callbacks}\n\u001b[1;32m    147\u001b[0m     )\n",
      "File \u001b[0;32m/Library/Frameworks/Python.framework/Versions/3.12/lib/python3.12/site-packages/langchain_core/language_models/chat_models.py:786\u001b[0m, in \u001b[0;36mBaseChatModel.generate_prompt\u001b[0;34m(self, prompts, stop, callbacks, **kwargs)\u001b[0m\n\u001b[1;32m    778\u001b[0m \u001b[38;5;28;01mdef\u001b[39;00m \u001b[38;5;21mgenerate_prompt\u001b[39m(\n\u001b[1;32m    779\u001b[0m     \u001b[38;5;28mself\u001b[39m,\n\u001b[1;32m    780\u001b[0m     prompts: \u001b[38;5;28mlist\u001b[39m[PromptValue],\n\u001b[0;32m   (...)\u001b[0m\n\u001b[1;32m    783\u001b[0m     \u001b[38;5;241m*\u001b[39m\u001b[38;5;241m*\u001b[39mkwargs: Any,\n\u001b[1;32m    784\u001b[0m ) \u001b[38;5;241m-\u001b[39m\u001b[38;5;241m>\u001b[39m LLMResult:\n\u001b[1;32m    785\u001b[0m     prompt_messages \u001b[38;5;241m=\u001b[39m [p\u001b[38;5;241m.\u001b[39mto_messages() \u001b[38;5;28;01mfor\u001b[39;00m p \u001b[38;5;129;01min\u001b[39;00m prompts]\n\u001b[0;32m--> 786\u001b[0m     \u001b[38;5;28;01mreturn\u001b[39;00m \u001b[38;5;28;43mself\u001b[39;49m\u001b[38;5;241;43m.\u001b[39;49m\u001b[43mgenerate\u001b[49m\u001b[43m(\u001b[49m\u001b[43mprompt_messages\u001b[49m\u001b[43m,\u001b[49m\u001b[43m \u001b[49m\u001b[43mstop\u001b[49m\u001b[38;5;241;43m=\u001b[39;49m\u001b[43mstop\u001b[49m\u001b[43m,\u001b[49m\u001b[43m \u001b[49m\u001b[43mcallbacks\u001b[49m\u001b[38;5;241;43m=\u001b[39;49m\u001b[43mcallbacks\u001b[49m\u001b[43m,\u001b[49m\u001b[43m \u001b[49m\u001b[38;5;241;43m*\u001b[39;49m\u001b[38;5;241;43m*\u001b[39;49m\u001b[43mkwargs\u001b[49m\u001b[43m)\u001b[49m\n",
      "File \u001b[0;32m/Library/Frameworks/Python.framework/Versions/3.12/lib/python3.12/site-packages/langchain_core/language_models/chat_models.py:643\u001b[0m, in \u001b[0;36mBaseChatModel.generate\u001b[0;34m(self, messages, stop, callbacks, tags, metadata, run_name, run_id, **kwargs)\u001b[0m\n\u001b[1;32m    641\u001b[0m         \u001b[38;5;28;01mif\u001b[39;00m run_managers:\n\u001b[1;32m    642\u001b[0m             run_managers[i]\u001b[38;5;241m.\u001b[39mon_llm_error(e, response\u001b[38;5;241m=\u001b[39mLLMResult(generations\u001b[38;5;241m=\u001b[39m[]))\n\u001b[0;32m--> 643\u001b[0m         \u001b[38;5;28;01mraise\u001b[39;00m e\n\u001b[1;32m    644\u001b[0m flattened_outputs \u001b[38;5;241m=\u001b[39m [\n\u001b[1;32m    645\u001b[0m     LLMResult(generations\u001b[38;5;241m=\u001b[39m[res\u001b[38;5;241m.\u001b[39mgenerations], llm_output\u001b[38;5;241m=\u001b[39mres\u001b[38;5;241m.\u001b[39mllm_output)  \u001b[38;5;66;03m# type: ignore[list-item]\u001b[39;00m\n\u001b[1;32m    646\u001b[0m     \u001b[38;5;28;01mfor\u001b[39;00m res \u001b[38;5;129;01min\u001b[39;00m results\n\u001b[1;32m    647\u001b[0m ]\n\u001b[1;32m    648\u001b[0m llm_output \u001b[38;5;241m=\u001b[39m \u001b[38;5;28mself\u001b[39m\u001b[38;5;241m.\u001b[39m_combine_llm_outputs([res\u001b[38;5;241m.\u001b[39mllm_output \u001b[38;5;28;01mfor\u001b[39;00m res \u001b[38;5;129;01min\u001b[39;00m results])\n",
      "File \u001b[0;32m/Library/Frameworks/Python.framework/Versions/3.12/lib/python3.12/site-packages/langchain_core/language_models/chat_models.py:633\u001b[0m, in \u001b[0;36mBaseChatModel.generate\u001b[0;34m(self, messages, stop, callbacks, tags, metadata, run_name, run_id, **kwargs)\u001b[0m\n\u001b[1;32m    630\u001b[0m \u001b[38;5;28;01mfor\u001b[39;00m i, m \u001b[38;5;129;01min\u001b[39;00m \u001b[38;5;28menumerate\u001b[39m(messages):\n\u001b[1;32m    631\u001b[0m     \u001b[38;5;28;01mtry\u001b[39;00m:\n\u001b[1;32m    632\u001b[0m         results\u001b[38;5;241m.\u001b[39mappend(\n\u001b[0;32m--> 633\u001b[0m             \u001b[38;5;28;43mself\u001b[39;49m\u001b[38;5;241;43m.\u001b[39;49m\u001b[43m_generate_with_cache\u001b[49m\u001b[43m(\u001b[49m\n\u001b[1;32m    634\u001b[0m \u001b[43m                \u001b[49m\u001b[43mm\u001b[49m\u001b[43m,\u001b[49m\n\u001b[1;32m    635\u001b[0m \u001b[43m                \u001b[49m\u001b[43mstop\u001b[49m\u001b[38;5;241;43m=\u001b[39;49m\u001b[43mstop\u001b[49m\u001b[43m,\u001b[49m\n\u001b[1;32m    636\u001b[0m \u001b[43m                \u001b[49m\u001b[43mrun_manager\u001b[49m\u001b[38;5;241;43m=\u001b[39;49m\u001b[43mrun_managers\u001b[49m\u001b[43m[\u001b[49m\u001b[43mi\u001b[49m\u001b[43m]\u001b[49m\u001b[43m \u001b[49m\u001b[38;5;28;43;01mif\u001b[39;49;00m\u001b[43m \u001b[49m\u001b[43mrun_managers\u001b[49m\u001b[43m \u001b[49m\u001b[38;5;28;43;01melse\u001b[39;49;00m\u001b[43m \u001b[49m\u001b[38;5;28;43;01mNone\u001b[39;49;00m\u001b[43m,\u001b[49m\n\u001b[1;32m    637\u001b[0m \u001b[43m                \u001b[49m\u001b[38;5;241;43m*\u001b[39;49m\u001b[38;5;241;43m*\u001b[39;49m\u001b[43mkwargs\u001b[49m\u001b[43m,\u001b[49m\n\u001b[1;32m    638\u001b[0m \u001b[43m            \u001b[49m\u001b[43m)\u001b[49m\n\u001b[1;32m    639\u001b[0m         )\n\u001b[1;32m    640\u001b[0m     \u001b[38;5;28;01mexcept\u001b[39;00m \u001b[38;5;167;01mBaseException\u001b[39;00m \u001b[38;5;28;01mas\u001b[39;00m e:\n\u001b[1;32m    641\u001b[0m         \u001b[38;5;28;01mif\u001b[39;00m run_managers:\n",
      "File \u001b[0;32m/Library/Frameworks/Python.framework/Versions/3.12/lib/python3.12/site-packages/langchain_core/language_models/chat_models.py:851\u001b[0m, in \u001b[0;36mBaseChatModel._generate_with_cache\u001b[0;34m(self, messages, stop, run_manager, **kwargs)\u001b[0m\n\u001b[1;32m    849\u001b[0m \u001b[38;5;28;01melse\u001b[39;00m:\n\u001b[1;32m    850\u001b[0m     \u001b[38;5;28;01mif\u001b[39;00m inspect\u001b[38;5;241m.\u001b[39msignature(\u001b[38;5;28mself\u001b[39m\u001b[38;5;241m.\u001b[39m_generate)\u001b[38;5;241m.\u001b[39mparameters\u001b[38;5;241m.\u001b[39mget(\u001b[38;5;124m\"\u001b[39m\u001b[38;5;124mrun_manager\u001b[39m\u001b[38;5;124m\"\u001b[39m):\n\u001b[0;32m--> 851\u001b[0m         result \u001b[38;5;241m=\u001b[39m \u001b[38;5;28;43mself\u001b[39;49m\u001b[38;5;241;43m.\u001b[39;49m\u001b[43m_generate\u001b[49m\u001b[43m(\u001b[49m\n\u001b[1;32m    852\u001b[0m \u001b[43m            \u001b[49m\u001b[43mmessages\u001b[49m\u001b[43m,\u001b[49m\u001b[43m \u001b[49m\u001b[43mstop\u001b[49m\u001b[38;5;241;43m=\u001b[39;49m\u001b[43mstop\u001b[49m\u001b[43m,\u001b[49m\u001b[43m \u001b[49m\u001b[43mrun_manager\u001b[49m\u001b[38;5;241;43m=\u001b[39;49m\u001b[43mrun_manager\u001b[49m\u001b[43m,\u001b[49m\u001b[43m \u001b[49m\u001b[38;5;241;43m*\u001b[39;49m\u001b[38;5;241;43m*\u001b[39;49m\u001b[43mkwargs\u001b[49m\n\u001b[1;32m    853\u001b[0m \u001b[43m        \u001b[49m\u001b[43m)\u001b[49m\n\u001b[1;32m    854\u001b[0m     \u001b[38;5;28;01melse\u001b[39;00m:\n\u001b[1;32m    855\u001b[0m         result \u001b[38;5;241m=\u001b[39m \u001b[38;5;28mself\u001b[39m\u001b[38;5;241m.\u001b[39m_generate(messages, stop\u001b[38;5;241m=\u001b[39mstop, \u001b[38;5;241m*\u001b[39m\u001b[38;5;241m*\u001b[39mkwargs)\n",
      "File \u001b[0;32m/Library/Frameworks/Python.framework/Versions/3.12/lib/python3.12/site-packages/langchain_community/chat_models/openai.py:475\u001b[0m, in \u001b[0;36mChatOpenAI._generate\u001b[0;34m(self, messages, stop, run_manager, stream, **kwargs)\u001b[0m\n\u001b[1;32m    469\u001b[0m message_dicts, params \u001b[38;5;241m=\u001b[39m \u001b[38;5;28mself\u001b[39m\u001b[38;5;241m.\u001b[39m_create_message_dicts(messages, stop)\n\u001b[1;32m    470\u001b[0m params \u001b[38;5;241m=\u001b[39m {\n\u001b[1;32m    471\u001b[0m     \u001b[38;5;241m*\u001b[39m\u001b[38;5;241m*\u001b[39mparams,\n\u001b[1;32m    472\u001b[0m     \u001b[38;5;241m*\u001b[39m\u001b[38;5;241m*\u001b[39m({\u001b[38;5;124m\"\u001b[39m\u001b[38;5;124mstream\u001b[39m\u001b[38;5;124m\"\u001b[39m: stream} \u001b[38;5;28;01mif\u001b[39;00m stream \u001b[38;5;129;01mis\u001b[39;00m \u001b[38;5;129;01mnot\u001b[39;00m \u001b[38;5;28;01mNone\u001b[39;00m \u001b[38;5;28;01melse\u001b[39;00m {}),\n\u001b[1;32m    473\u001b[0m     \u001b[38;5;241m*\u001b[39m\u001b[38;5;241m*\u001b[39mkwargs,\n\u001b[1;32m    474\u001b[0m }\n\u001b[0;32m--> 475\u001b[0m response \u001b[38;5;241m=\u001b[39m \u001b[38;5;28;43mself\u001b[39;49m\u001b[38;5;241;43m.\u001b[39;49m\u001b[43mcompletion_with_retry\u001b[49m\u001b[43m(\u001b[49m\n\u001b[1;32m    476\u001b[0m \u001b[43m    \u001b[49m\u001b[43mmessages\u001b[49m\u001b[38;5;241;43m=\u001b[39;49m\u001b[43mmessage_dicts\u001b[49m\u001b[43m,\u001b[49m\u001b[43m \u001b[49m\u001b[43mrun_manager\u001b[49m\u001b[38;5;241;43m=\u001b[39;49m\u001b[43mrun_manager\u001b[49m\u001b[43m,\u001b[49m\u001b[43m \u001b[49m\u001b[38;5;241;43m*\u001b[39;49m\u001b[38;5;241;43m*\u001b[39;49m\u001b[43mparams\u001b[49m\n\u001b[1;32m    477\u001b[0m \u001b[43m\u001b[49m\u001b[43m)\u001b[49m\n\u001b[1;32m    478\u001b[0m \u001b[38;5;28;01mreturn\u001b[39;00m \u001b[38;5;28mself\u001b[39m\u001b[38;5;241m.\u001b[39m_create_chat_result(response)\n",
      "File \u001b[0;32m/Library/Frameworks/Python.framework/Versions/3.12/lib/python3.12/site-packages/langchain_community/chat_models/openai.py:388\u001b[0m, in \u001b[0;36mChatOpenAI.completion_with_retry\u001b[0;34m(self, run_manager, **kwargs)\u001b[0m\n\u001b[1;32m    385\u001b[0m \u001b[38;5;28;01mif\u001b[39;00m is_openai_v1():\n\u001b[1;32m    386\u001b[0m     \u001b[38;5;28;01mreturn\u001b[39;00m \u001b[38;5;28mself\u001b[39m\u001b[38;5;241m.\u001b[39mclient\u001b[38;5;241m.\u001b[39mcreate(\u001b[38;5;241m*\u001b[39m\u001b[38;5;241m*\u001b[39mkwargs)\n\u001b[0;32m--> 388\u001b[0m retry_decorator \u001b[38;5;241m=\u001b[39m \u001b[43m_create_retry_decorator\u001b[49m\u001b[43m(\u001b[49m\u001b[38;5;28;43mself\u001b[39;49m\u001b[43m,\u001b[49m\u001b[43m \u001b[49m\u001b[43mrun_manager\u001b[49m\u001b[38;5;241;43m=\u001b[39;49m\u001b[43mrun_manager\u001b[49m\u001b[43m)\u001b[49m\n\u001b[1;32m    390\u001b[0m \u001b[38;5;129m@retry_decorator\u001b[39m\n\u001b[1;32m    391\u001b[0m \u001b[38;5;28;01mdef\u001b[39;00m \u001b[38;5;21m_completion_with_retry\u001b[39m(\u001b[38;5;241m*\u001b[39m\u001b[38;5;241m*\u001b[39mkwargs: Any) \u001b[38;5;241m-\u001b[39m\u001b[38;5;241m>\u001b[39m Any:\n\u001b[1;32m    392\u001b[0m     \u001b[38;5;28;01mreturn\u001b[39;00m \u001b[38;5;28mself\u001b[39m\u001b[38;5;241m.\u001b[39mclient\u001b[38;5;241m.\u001b[39mcreate(\u001b[38;5;241m*\u001b[39m\u001b[38;5;241m*\u001b[39mkwargs)\n",
      "File \u001b[0;32m/Library/Frameworks/Python.framework/Versions/3.12/lib/python3.12/site-packages/langchain_community/chat_models/openai.py:90\u001b[0m, in \u001b[0;36m_create_retry_decorator\u001b[0;34m(llm, run_manager)\u001b[0m\n\u001b[1;32m     81\u001b[0m \u001b[38;5;28;01mdef\u001b[39;00m \u001b[38;5;21m_create_retry_decorator\u001b[39m(\n\u001b[1;32m     82\u001b[0m     llm: ChatOpenAI,\n\u001b[1;32m     83\u001b[0m     run_manager: Optional[\n\u001b[1;32m     84\u001b[0m         Union[AsyncCallbackManagerForLLMRun, CallbackManagerForLLMRun]\n\u001b[1;32m     85\u001b[0m     ] \u001b[38;5;241m=\u001b[39m \u001b[38;5;28;01mNone\u001b[39;00m,\n\u001b[1;32m     86\u001b[0m ) \u001b[38;5;241m-\u001b[39m\u001b[38;5;241m>\u001b[39m Callable[[Any], Any]:\n\u001b[1;32m     87\u001b[0m     \u001b[38;5;28;01mimport\u001b[39;00m \u001b[38;5;21;01mopenai\u001b[39;00m\n\u001b[1;32m     89\u001b[0m     errors \u001b[38;5;241m=\u001b[39m [\n\u001b[0;32m---> 90\u001b[0m         \u001b[43mopenai\u001b[49m\u001b[38;5;241;43m.\u001b[39;49m\u001b[43merror\u001b[49m\u001b[38;5;241m.\u001b[39mTimeout,  \u001b[38;5;66;03m# type: ignore[attr-defined]\u001b[39;00m\n\u001b[1;32m     91\u001b[0m         openai\u001b[38;5;241m.\u001b[39merror\u001b[38;5;241m.\u001b[39mAPIError,  \u001b[38;5;66;03m# type: ignore[attr-defined]\u001b[39;00m\n\u001b[1;32m     92\u001b[0m         openai\u001b[38;5;241m.\u001b[39merror\u001b[38;5;241m.\u001b[39mAPIConnectionError,  \u001b[38;5;66;03m# type: ignore[attr-defined]\u001b[39;00m\n\u001b[1;32m     93\u001b[0m         openai\u001b[38;5;241m.\u001b[39merror\u001b[38;5;241m.\u001b[39mRateLimitError,  \u001b[38;5;66;03m# type: ignore[attr-defined]\u001b[39;00m\n\u001b[1;32m     94\u001b[0m         openai\u001b[38;5;241m.\u001b[39merror\u001b[38;5;241m.\u001b[39mServiceUnavailableError,  \u001b[38;5;66;03m# type: ignore[attr-defined]\u001b[39;00m\n\u001b[1;32m     95\u001b[0m     ]\n\u001b[1;32m     96\u001b[0m     \u001b[38;5;28;01mreturn\u001b[39;00m create_base_retry_decorator(\n\u001b[1;32m     97\u001b[0m         error_types\u001b[38;5;241m=\u001b[39merrors, max_retries\u001b[38;5;241m=\u001b[39mllm\u001b[38;5;241m.\u001b[39mmax_retries, run_manager\u001b[38;5;241m=\u001b[39mrun_manager\n\u001b[1;32m     98\u001b[0m     )\n",
      "\u001b[0;31mAttributeError\u001b[0m: module 'openai' has no attribute 'error'"
     ]
    }
   ],
   "source": [
    "zero_shot_agent(\"Is Bajaj Finance a good investment choice right now?\")"
   ]
  },
  {
   "cell_type": "code",
   "execution_count": null,
   "metadata": {},
   "outputs": [
    {
     "name": "stdout",
     "output_type": "stream",
     "text": [
      "\n",
      "\n",
      "\u001b[1m> Entering new  chain...\u001b[0m\n",
      "\u001b[32;1m\u001b[1;3mI need to find the stock ticker symbol for Asian Paints and gather stock data, financial statements, and recent news to analyze the stock.\n",
      "Action: DuckDuckGo Search\n",
      "Action Input: \"Asian Paints NSE/BSE stock ticker\"\u001b[0m\n",
      "Observation: \u001b[33;1m\u001b[1;3mAsian Paints Limited Share Price Today, Live NSE Stock Price: Get the latest Asian Paints Limited news, company updates, quotes, offers, annual financial reports, graph, volumes, 52 week high low, buy sell tips, balance sheet, historical charts, market performance, capitalisation, dividends, volume, profit and loss account, research, results and more details at NSE India. Asian Paints Share Price Today (02 Aug, 2023) - Asian Paints Share Price Live NSE/BSE Business News › Markets › Stocks › Stock Price Quotes › Asian Paints Share Price Sector: Building Materi... Industry: Paints/Varnishes Asian Paints Share Price 3,348.10 5.15 (0.15 %) Volume: 5,89,686 Live Last Updated On: 02 Aug, 2023, 02:22 PM IST Asian Paints Ltd Share Price Today, ASIANPAINT Share Price NSE, BSE Sign In News Markets Stocks Asian Paints Ltd Asian Paints Ltd (ASIANPAINT) Share Price Sector: Paints/Varnish... Asian Paints Share Price: Find the latest news on Asian Paints Stock Price. Get all the information on Asian Paints with historic price charts for NSE / BSE. Experts & Broker view also get the ... See the latest Asian Paints Ltd stock price (XNSE:ASIANPAINT), related news, valuation, dividends and more to help you make your investing decisions.\u001b[0m\n",
      "Thought:\u001b[32;1m\u001b[1;3mI have found the stock ticker symbol for Asian Paints, which is ASIANPAINT.\n",
      "Action: get stock data\n",
      "Action Input: ASIANPAINT\u001b[0m\n",
      "Observation: \u001b[36;1m\u001b[1;3m                  Close  Volume\n",
      "Date                           \n",
      "2023-07-31  3377.350098  933890\n",
      "2023-08-01  3342.949951  698667\n",
      "2023-08-02  3362.899902  857218\n",
      "2023-08-03  3336.350098  711067\n",
      "2023-08-04  3339.649902  519248\u001b[0m\n",
      "Thought:\u001b[32;1m\u001b[1;3mI have gathered the stock data for Asian Paints.\n",
      "Action: get financial statements\n",
      "Action Input: ASIANPAINT\u001b[0m\n",
      "Observation: \u001b[36;1m\u001b[1;3m                                                                          2023-03-31      2022-03-31      2021-03-31      2020-03-31\n",
      "Treasury Shares Number                                                      357659.0        223240.0             NaN             NaN\n",
      "Ordinary Shares Number                                                   958840131.0     958974550.0     959197790.0     959197790.0\n",
      "Share Issued                                                             958840131.0     959197790.0     959197790.0     959197790.0\n",
      "Net Debt                                                                4491100000.0    1539000000.0      21500000.0             NaN\n",
      "Total Debt                                                             19326200000.0   15868400000.0   10930800000.0   11182400000.0\n",
      "Tangible Book Value                                                   155763400000.0  133827100000.0  122696700000.0   95427000000.0\n",
      "Invested Capital                                                      169644400000.0  145871800000.0  131548300000.0  104845900000.0\n",
      "Working Capital                                                        86392300000.0   75813400000.0   61007400000.0   31997300000.0\n",
      "Net Tangible Assets                                                   155763400000.0  133827100000.0  122696700000.0   95427000000.0\n",
      "Capital Lease Obligations                                               9604100000.0    8112200000.0    7445400000.0    7638100000.0\n",
      "Common Stock Equity                                                   159922300000.0  138115600000.0  128062900000.0  101301600000.0\n",
      "Total Capitalization                                                  160683800000.0  138561000000.0  128207800000.0  101486600000.0\n",
      "Total Equity Gross Minority Interest                                  164458900000.0  141990900000.0  132291500000.0  105336900000.0\n",
      "Minority Interest                                                       4536600000.0    3875300000.0    4228600000.0    4035300000.0\n",
      "Stockholders Equity                                                   159922300000.0  138115600000.0  128062900000.0  101301600000.0\n",
      "Other Equity Interest                                                 158963100000.0     134000000.0             NaN             NaN\n",
      "Treasury Stock                                                          1108900000.0     750000000.0             NaN             NaN\n",
      "Retained Earnings                                                     113668400000.0   91859500000.0   78740200000.0   52046400000.0\n",
      "Additional Paid In Capital                                                53700000.0      53700000.0      53700000.0      53700000.0\n",
      "Capital Stock                                                            959200000.0     959200000.0     959200000.0     959200000.0\n",
      "Common Stock                                                             959200000.0     959200000.0     959200000.0     959200000.0\n",
      "Total Liabilities Net Minority Interest                                93521100000.0   87853600000.0   71404700000.0   56210800000.0\n",
      "Total Non Current Liabilities Net Minority Interest                    14561800000.0   12143700000.0   12146100000.0   12407000000.0\n",
      "Other Non Current Liabilities                                            391700000.0      21100000.0       7100000.0             NaN\n",
      "Derivative Product Liabilities                                            61200000.0             0.0             NaN             NaN\n",
      "Non Current Pension And Other Postretirement Benefit Plans              2293100000.0             NaN    2152100000.0    1807500000.0\n",
      "Tradeand Other Payables Non Current                                      179200000.0      12900000.0      26200000.0      16100000.0\n",
      "Non Current Deferred Revenue                                             400500000.0      30000000.0      46300000.0      61000000.0\n",
      "Non Current Deferred Taxes Liabilities                                  3348400000.0    3488500000.0    4155900000.0    4438000000.0\n",
      "Long Term Debt And Capital Lease Obligation                             8050900000.0    6429100000.0    5758500000.0    6084400000.0\n",
      "Long Term Capital Lease Obligation                                      7289400000.0    5983700000.0    5613600000.0    5899400000.0\n",
      "Long Term Debt                                                           761500000.0     445400000.0     144900000.0     185000000.0\n",
      "Long Term Provisions                                                    2307000000.0    2183200000.0    2152100000.0             NaN\n",
      "Current Liabilities                                                    78959300000.0   75709900000.0   59258600000.0   43803800000.0\n",
      "Other Current Liabilities                                               4590400000.0      28700000.0       5800000.0       1300000.0\n",
      "Current Deferred Taxes Liabilities                                      1636900000.0    1301200000.0    1212300000.0    1800500000.0\n",
      "Current Debt And Capital Lease Obligation                              11275300000.0    9439300000.0    5172300000.0    5098000000.0\n",
      "Current Capital Lease Obligation                                        2314700000.0    2128500000.0    1831800000.0    1738700000.0\n",
      "Current Debt                                                            8960600000.0    7310800000.0    3340500000.0    3359300000.0\n",
      "Pensionand Other Post Retirement Benefit Plans Current                   729800000.0             NaN             NaN             NaN\n",
      "Current Provisions                                                       742100000.0     697000000.0     844300000.0     624600000.0\n",
      "Payables                                                               37991300000.0   63453900000.0   51594200000.0   35784300000.0\n",
      "Other Payable                                                          26653600000.0   21339900000.0   17349100000.0   13829500000.0\n",
      "Dividends Payable                                                        239900000.0     246600000.0     266700000.0     224700000.0\n",
      "Total Tax Payable                                                       1636900000.0    1301200000.0    1212300000.0             NaN\n",
      "Accounts Payable                                                       36354400000.0   41867400000.0   33978400000.0   21730100000.0\n",
      "Total Assets                                                          257980000000.0  229844500000.0  203696200000.0  161547700000.0\n",
      "Total Non Current Assets                                               92628400000.0   78321200000.0   83430200000.0   85746600000.0\n",
      "Other Non Current Assets                                                3345400000.0    1328700000.0     683800000.0             NaN\n",
      "Non Current Prepaid Assets                                              5731500000.0    3656700000.0    2817200000.0    3862300000.0\n",
      "Non Current Deferred Taxes Assets                                        186700000.0     260200000.0     142800000.0     168000000.0\n",
      "Financial Assets                                                                 0.0             0.0             NaN             NaN\n",
      "Investmentin Financial Assets                                          11461600000.0    5513600000.0    9857800000.0   10497400000.0\n",
      "Held To Maturity Securities                                                8300000.0       6700000.0       8300000.0      11500000.0\n",
      "Available For Sale Securities                                          11461600000.0    5496200000.0    6597700000.0    6279300000.0\n",
      "Financial Assets Designatedas Fair Value Through Profitor Loss Total      19200000.0      10700000.0    3251800000.0    4206600000.0\n",
      "Long Term Equity Investment                                             7817300000.0    5154700000.0    4839000000.0    4566300000.0\n",
      "Investmentsin Associatesat Cost                                         7817300000.0    5154700000.0    4839000000.0    4566300000.0\n",
      "Goodwill And Other Intangible Assets                                    4158900000.0    4288500000.0    5366200000.0    5874600000.0\n",
      "Other Intangible Assets                                                 1874100000.0    1859900000.0    2339900000.0    2674700000.0\n",
      "Goodwill                                                                2284800000.0    2428600000.0    3026300000.0    3199900000.0\n",
      "Net PPE                                                                63741600000.0   55166400000.0   55048800000.0   58250900000.0\n",
      "Accumulated Depreciation                                              -33361300000.0  -28124000000.0  -22960000000.0  -18029300000.0\n",
      "Gross PPE                                                              63741600000.0   83290400000.0   78008800000.0   76280200000.0\n",
      "Construction In Progress                                               10195900000.0    4264300000.0    1829800000.0    1402400000.0\n",
      "Other Properties                                                       53545700000.0     769900000.0     769200000.0     744300000.0\n",
      "Machinery Furniture Equipment                                          51244500000.0   47846700000.0   45770600000.0   44444400000.0\n",
      "Buildings And Improvements                                             26881000000.0   23964600000.0   23197600000.0   23284600000.0\n",
      "Land And Improvements                                                   7987100000.0    6444900000.0    6441600000.0    6404500000.0\n",
      "Properties                                                                       0.0             0.0             0.0             0.0\n",
      "Current Assets                                                        165351600000.0  151523300000.0  120266000000.0   75801100000.0\n",
      "Other Current Assets                                                    5539800000.0    5412500000.0       4500000.0             NaN\n",
      "Hedging Assets Current                                                    23400000.0             0.0       8800000.0             NaN\n",
      "Assets Held For Sale Current                                                     0.0      81300000.0     134900000.0     138600000.0\n",
      "Restricted Cash                                                          567900000.0     558000000.0     428900000.0    2221500000.0\n",
      "Prepaid Assets                                                          2418000000.0    3294200000.0    3963000000.0    1427400000.0\n",
      "Inventory                                                              62106400000.0   61529800000.0   37986000000.0   33898100000.0\n",
      "Finished Goods                                                         36113300000.0   32933100000.0   20299000000.0   19774900000.0\n",
      "Work In Process                                                         1871100000.0    1950200000.0    1334600000.0     934200000.0\n",
      "Raw Materials                                                          24122000000.0   26646500000.0   16352400000.0   13189000000.0\n",
      "Other Receivables                                                       7545600000.0    7094400000.0    4090100000.0    4749100000.0\n",
      "Taxes Receivable                                                                 NaN             NaN      11800000.0      17000000.0\n",
      "Accounts Receivable                                                    46369400000.0   38714500000.0   26038000000.0   17952200000.0\n",
      "Allowance For Doubtful Accounts Receivable                             -3051300000.0   -2389500000.0   -1853100000.0   -1551200000.0\n",
      "Gross Accounts Receivable                                              49428700000.0   41104000000.0   27891100000.0   19503400000.0\n",
      "Cash Cash Equivalents And Short Term Investments                       51336000000.0   40251100000.0   47609100000.0   15411600000.0\n",
      "Other Short Term Investments                                           46105000000.0   34033900000.0   44145200000.0    9773300000.0\n",
      "Cash And Cash Equivalents                                               5231000000.0    6217200000.0    3463900000.0    5638300000.0\n",
      "Cash Equivalents                                                         583800000.0     627100000.0     260600000.0     243200000.0\n",
      "Cash Financial                                                          4647200000.0    5590100000.0    3203300000.0    5395100000.0\u001b[0m\n",
      "Thought:"
     ]
    },
    {
     "name": "stderr",
     "output_type": "stream",
     "text": [
      "Retrying langchain.llms.openai.completion_with_retry.<locals>._completion_with_retry in 4.0 seconds as it raised RateLimitError: Rate limit reached for default-gpt-3.5-turbo-16k in organization org-ee1LP900po9H9JaxPmhhwDap on requests per min. Limit: 3 / min. Please try again in 20s. Contact us through our help center at help.openai.com if you continue to have issues. Please add a payment method to your account to increase your rate limit. Visit https://platform.openai.com/account/billing to add a payment method..\n"
     ]
    },
    {
     "name": "stdout",
     "output_type": "stream",
     "text": [
      "\u001b[32;1m\u001b[1;3mI have gathered the necessary data for Asian Paints. Now I can analyze the stock and provide a detailed analysis for investment choice.\n",
      "Action: Analyze the stock based on gathered data\u001b[0m\n",
      "Observation: Invalid Format: Missing 'Action Input:' after 'Action:'\n",
      "Thought:"
     ]
    },
    {
     "name": "stderr",
     "output_type": "stream",
     "text": [
      "Retrying langchain.llms.openai.completion_with_retry.<locals>._completion_with_retry in 4.0 seconds as it raised RateLimitError: Rate limit reached for default-gpt-3.5-turbo-16k in organization org-ee1LP900po9H9JaxPmhhwDap on requests per min. Limit: 3 / min. Please try again in 20s. Contact us through our help center at help.openai.com if you continue to have issues. Please add a payment method to your account to increase your rate limit. Visit https://platform.openai.com/account/billing to add a payment method..\n",
      "Retrying langchain.llms.openai.completion_with_retry.<locals>._completion_with_retry in 4.0 seconds as it raised RateLimitError: Rate limit reached for default-gpt-3.5-turbo-16k in organization org-ee1LP900po9H9JaxPmhhwDap on requests per min. Limit: 3 / min. Please try again in 20s. Contact us through our help center at help.openai.com if you continue to have issues. Please add a payment method to your account to increase your rate limit. Visit https://platform.openai.com/account/billing to add a payment method..\n",
      "Retrying langchain.llms.openai.completion_with_retry.<locals>._completion_with_retry in 4.0 seconds as it raised RateLimitError: Rate limit reached for default-gpt-3.5-turbo-16k in organization org-ee1LP900po9H9JaxPmhhwDap on requests per min. Limit: 3 / min. Please try again in 20s. Contact us through our help center at help.openai.com if you continue to have issues. Please add a payment method to your account to increase your rate limit. Visit https://platform.openai.com/account/billing to add a payment method..\n",
      "Retrying langchain.llms.openai.completion_with_retry.<locals>._completion_with_retry in 8.0 seconds as it raised RateLimitError: Rate limit reached for default-gpt-3.5-turbo-16k in organization org-ee1LP900po9H9JaxPmhhwDap on requests per min. Limit: 3 / min. Please try again in 20s. Contact us through our help center at help.openai.com if you continue to have issues. Please add a payment method to your account to increase your rate limit. Visit https://platform.openai.com/account/billing to add a payment method..\n"
     ]
    },
    {
     "name": "stdout",
     "output_type": "stream",
     "text": [
      "\u001b[32;1m\u001b[1;3mI need to provide the action input for analyzing the stock based on the gathered data.\n",
      "Action: Analyze the stock based on gathered data\n",
      "Action Input: ASIANPAINT\u001b[0m\n",
      "Observation: Analyze the stock based on gathered data is not a valid tool, try another one.\n",
      "Thought:"
     ]
    },
    {
     "name": "stderr",
     "output_type": "stream",
     "text": [
      "Retrying langchain.llms.openai.completion_with_retry.<locals>._completion_with_retry in 4.0 seconds as it raised RateLimitError: Rate limit reached for default-gpt-3.5-turbo-16k in organization org-ee1LP900po9H9JaxPmhhwDap on requests per min. Limit: 3 / min. Please try again in 20s. Contact us through our help center at help.openai.com if you continue to have issues. Please add a payment method to your account to increase your rate limit. Visit https://platform.openai.com/account/billing to add a payment method..\n",
      "Retrying langchain.llms.openai.completion_with_retry.<locals>._completion_with_retry in 4.0 seconds as it raised RateLimitError: Rate limit reached for default-gpt-3.5-turbo-16k in organization org-ee1LP900po9H9JaxPmhhwDap on requests per min. Limit: 3 / min. Please try again in 20s. Contact us through our help center at help.openai.com if you continue to have issues. Please add a payment method to your account to increase your rate limit. Visit https://platform.openai.com/account/billing to add a payment method..\n",
      "Retrying langchain.llms.openai.completion_with_retry.<locals>._completion_with_retry in 4.0 seconds as it raised RateLimitError: Rate limit reached for default-gpt-3.5-turbo-16k in organization org-ee1LP900po9H9JaxPmhhwDap on requests per min. Limit: 3 / min. Please try again in 20s. Contact us through our help center at help.openai.com if you continue to have issues. Please add a payment method to your account to increase your rate limit. Visit https://platform.openai.com/account/billing to add a payment method..\n"
     ]
    },
    {
     "name": "stdout",
     "output_type": "stream",
     "text": [
      "\u001b[32;1m\u001b[1;3mI need to use a different tool to analyze the stock based on the gathered data.\n",
      "Action: get recent news\n",
      "Action Input: ASIANPAINT\u001b[0m\n",
      "Observation: \u001b[38;5;200m\u001b[1;3mRecent News:\n",
      "\n",
      "0. Asian Paint share price Today Live Updates : Asian Paint closed today at \n",
      "₹3339.9, up 0.13% from yesterday's ₹3335.55 | Mint\n",
      "1. Asian Paint share price Today Live Updates : Asian Paint closed today at \n",
      "₹3335.55, down -0.82% from yesterday's ₹3363.25 | Mint\n",
      "\u001b[0m\n",
      "Thought:"
     ]
    },
    {
     "name": "stderr",
     "output_type": "stream",
     "text": [
      "Retrying langchain.llms.openai.completion_with_retry.<locals>._completion_with_retry in 4.0 seconds as it raised RateLimitError: Rate limit reached for default-gpt-3.5-turbo-16k in organization org-ee1LP900po9H9JaxPmhhwDap on requests per min. Limit: 3 / min. Please try again in 20s. Contact us through our help center at help.openai.com if you continue to have issues. Please add a payment method to your account to increase your rate limit. Visit https://platform.openai.com/account/billing to add a payment method..\n",
      "Retrying langchain.llms.openai.completion_with_retry.<locals>._completion_with_retry in 4.0 seconds as it raised RateLimitError: Rate limit reached for default-gpt-3.5-turbo-16k in organization org-ee1LP900po9H9JaxPmhhwDap on requests per min. Limit: 3 / min. Please try again in 20s. Contact us through our help center at help.openai.com if you continue to have issues. Please add a payment method to your account to increase your rate limit. Visit https://platform.openai.com/account/billing to add a payment method..\n",
      "Retrying langchain.llms.openai.completion_with_retry.<locals>._completion_with_retry in 4.0 seconds as it raised RateLimitError: Rate limit reached for default-gpt-3.5-turbo-16k in organization org-ee1LP900po9H9JaxPmhhwDap on requests per min. Limit: 3 / min. Please try again in 20s. Contact us through our help center at help.openai.com if you continue to have issues. Please add a payment method to your account to increase your rate limit. Visit https://platform.openai.com/account/billing to add a payment method..\n"
     ]
    },
    {
     "name": "stdout",
     "output_type": "stream",
     "text": [
      "\u001b[32;1m\u001b[1;3mI have gathered recent news about Asian Paints. Now I can analyze the stock and provide a detailed analysis for investment choice.\n",
      "Action: Analyze the stock based on gathered data\n",
      "Action Input: ASIANPAINT\u001b[0m\n",
      "Observation: Analyze the stock based on gathered data is not a valid tool, try another one.\n",
      "Thought:"
     ]
    },
    {
     "name": "stderr",
     "output_type": "stream",
     "text": [
      "Retrying langchain.llms.openai.completion_with_retry.<locals>._completion_with_retry in 4.0 seconds as it raised RateLimitError: Rate limit reached for default-gpt-3.5-turbo-16k in organization org-ee1LP900po9H9JaxPmhhwDap on requests per min. Limit: 3 / min. Please try again in 20s. Contact us through our help center at help.openai.com if you continue to have issues. Please add a payment method to your account to increase your rate limit. Visit https://platform.openai.com/account/billing to add a payment method..\n",
      "Retrying langchain.llms.openai.completion_with_retry.<locals>._completion_with_retry in 4.0 seconds as it raised RateLimitError: Rate limit reached for default-gpt-3.5-turbo-16k in organization org-ee1LP900po9H9JaxPmhhwDap on requests per min. Limit: 3 / min. Please try again in 20s. Contact us through our help center at help.openai.com if you continue to have issues. Please add a payment method to your account to increase your rate limit. Visit https://platform.openai.com/account/billing to add a payment method..\n",
      "Retrying langchain.llms.openai.completion_with_retry.<locals>._completion_with_retry in 4.0 seconds as it raised RateLimitError: Rate limit reached for default-gpt-3.5-turbo-16k in organization org-ee1LP900po9H9JaxPmhhwDap on requests per min. Limit: 3 / min. Please try again in 20s. Contact us through our help center at help.openai.com if you continue to have issues. Please add a payment method to your account to increase your rate limit. Visit https://platform.openai.com/account/billing to add a payment method..\n",
      "Retrying langchain.llms.openai.completion_with_retry.<locals>._completion_with_retry in 8.0 seconds as it raised RateLimitError: Rate limit reached for default-gpt-3.5-turbo-16k in organization org-ee1LP900po9H9JaxPmhhwDap on requests per min. Limit: 3 / min. Please try again in 20s. Contact us through our help center at help.openai.com if you continue to have issues. Please add a payment method to your account to increase your rate limit. Visit https://platform.openai.com/account/billing to add a payment method..\n"
     ]
    },
    {
     "name": "stdout",
     "output_type": "stream",
     "text": [
      "\u001b[32;1m\u001b[1;3mI need to use a different tool to analyze the stock based on the gathered data.\n",
      "Action: get financial statements\n",
      "Action Input: ASIANPAINT\u001b[0m\n",
      "Observation: \u001b[36;1m\u001b[1;3m                                                                          2023-03-31      2022-03-31      2021-03-31      2020-03-31\n",
      "Treasury Shares Number                                                      357659.0        223240.0             NaN             NaN\n",
      "Ordinary Shares Number                                                   958840131.0     958974550.0     959197790.0     959197790.0\n",
      "Share Issued                                                             958840131.0     959197790.0     959197790.0     959197790.0\n",
      "Net Debt                                                                4491100000.0    1539000000.0      21500000.0             NaN\n",
      "Total Debt                                                             19326200000.0   15868400000.0   10930800000.0   11182400000.0\n",
      "Tangible Book Value                                                   155763400000.0  133827100000.0  122696700000.0   95427000000.0\n",
      "Invested Capital                                                      169644400000.0  145871800000.0  131548300000.0  104845900000.0\n",
      "Working Capital                                                        86392300000.0   75813400000.0   61007400000.0   31997300000.0\n",
      "Net Tangible Assets                                                   155763400000.0  133827100000.0  122696700000.0   95427000000.0\n",
      "Capital Lease Obligations                                               9604100000.0    8112200000.0    7445400000.0    7638100000.0\n",
      "Common Stock Equity                                                   159922300000.0  138115600000.0  128062900000.0  101301600000.0\n",
      "Total Capitalization                                                  160683800000.0  138561000000.0  128207800000.0  101486600000.0\n",
      "Total Equity Gross Minority Interest                                  164458900000.0  141990900000.0  132291500000.0  105336900000.0\n",
      "Minority Interest                                                       4536600000.0    3875300000.0    4228600000.0    4035300000.0\n",
      "Stockholders Equity                                                   159922300000.0  138115600000.0  128062900000.0  101301600000.0\n",
      "Other Equity Interest                                                 158963100000.0     134000000.0             NaN             NaN\n",
      "Treasury Stock                                                          1108900000.0     750000000.0             NaN             NaN\n",
      "Retained Earnings                                                     113668400000.0   91859500000.0   78740200000.0   52046400000.0\n",
      "Additional Paid In Capital                                                53700000.0      53700000.0      53700000.0      53700000.0\n",
      "Capital Stock                                                            959200000.0     959200000.0     959200000.0     959200000.0\n",
      "Common Stock                                                             959200000.0     959200000.0     959200000.0     959200000.0\n",
      "Total Liabilities Net Minority Interest                                93521100000.0   87853600000.0   71404700000.0   56210800000.0\n",
      "Total Non Current Liabilities Net Minority Interest                    14561800000.0   12143700000.0   12146100000.0   12407000000.0\n",
      "Other Non Current Liabilities                                            391700000.0      21100000.0       7100000.0             NaN\n",
      "Derivative Product Liabilities                                            61200000.0             0.0             NaN             NaN\n",
      "Non Current Pension And Other Postretirement Benefit Plans              2293100000.0             NaN    2152100000.0    1807500000.0\n",
      "Tradeand Other Payables Non Current                                      179200000.0      12900000.0      26200000.0      16100000.0\n",
      "Non Current Deferred Revenue                                             400500000.0      30000000.0      46300000.0      61000000.0\n",
      "Non Current Deferred Taxes Liabilities                                  3348400000.0    3488500000.0    4155900000.0    4438000000.0\n",
      "Long Term Debt And Capital Lease Obligation                             8050900000.0    6429100000.0    5758500000.0    6084400000.0\n",
      "Long Term Capital Lease Obligation                                      7289400000.0    5983700000.0    5613600000.0    5899400000.0\n",
      "Long Term Debt                                                           761500000.0     445400000.0     144900000.0     185000000.0\n",
      "Long Term Provisions                                                    2307000000.0    2183200000.0    2152100000.0             NaN\n",
      "Current Liabilities                                                    78959300000.0   75709900000.0   59258600000.0   43803800000.0\n",
      "Other Current Liabilities                                               4590400000.0      28700000.0       5800000.0       1300000.0\n",
      "Current Deferred Taxes Liabilities                                      1636900000.0    1301200000.0    1212300000.0    1800500000.0\n",
      "Current Debt And Capital Lease Obligation                              11275300000.0    9439300000.0    5172300000.0    5098000000.0\n",
      "Current Capital Lease Obligation                                        2314700000.0    2128500000.0    1831800000.0    1738700000.0\n",
      "Current Debt                                                            8960600000.0    7310800000.0    3340500000.0    3359300000.0\n",
      "Pensionand Other Post Retirement Benefit Plans Current                   729800000.0             NaN             NaN             NaN\n",
      "Current Provisions                                                       742100000.0     697000000.0     844300000.0     624600000.0\n",
      "Payables                                                               37991300000.0   63453900000.0   51594200000.0   35784300000.0\n",
      "Other Payable                                                          26653600000.0   21339900000.0   17349100000.0   13829500000.0\n",
      "Dividends Payable                                                        239900000.0     246600000.0     266700000.0     224700000.0\n",
      "Total Tax Payable                                                       1636900000.0    1301200000.0    1212300000.0             NaN\n",
      "Accounts Payable                                                       36354400000.0   41867400000.0   33978400000.0   21730100000.0\n",
      "Total Assets                                                          257980000000.0  229844500000.0  203696200000.0  161547700000.0\n",
      "Total Non Current Assets                                               92628400000.0   78321200000.0   83430200000.0   85746600000.0\n",
      "Other Non Current Assets                                                3345400000.0    1328700000.0     683800000.0             NaN\n",
      "Non Current Prepaid Assets                                              5731500000.0    3656700000.0    2817200000.0    3862300000.0\n",
      "Non Current Deferred Taxes Assets                                        186700000.0     260200000.0     142800000.0     168000000.0\n",
      "Financial Assets                                                                 0.0             0.0             NaN             NaN\n",
      "Investmentin Financial Assets                                          11461600000.0    5513600000.0    9857800000.0   10497400000.0\n",
      "Held To Maturity Securities                                                8300000.0       6700000.0       8300000.0      11500000.0\n",
      "Available For Sale Securities                                          11461600000.0    5496200000.0    6597700000.0    6279300000.0\n",
      "Financial Assets Designatedas Fair Value Through Profitor Loss Total      19200000.0      10700000.0    3251800000.0    4206600000.0\n",
      "Long Term Equity Investment                                             7817300000.0    5154700000.0    4839000000.0    4566300000.0\n",
      "Investmentsin Associatesat Cost                                         7817300000.0    5154700000.0    4839000000.0    4566300000.0\n",
      "Goodwill And Other Intangible Assets                                    4158900000.0    4288500000.0    5366200000.0    5874600000.0\n",
      "Other Intangible Assets                                                 1874100000.0    1859900000.0    2339900000.0    2674700000.0\n",
      "Goodwill                                                                2284800000.0    2428600000.0    3026300000.0    3199900000.0\n",
      "Net PPE                                                                63741600000.0   55166400000.0   55048800000.0   58250900000.0\n",
      "Accumulated Depreciation                                              -33361300000.0  -28124000000.0  -22960000000.0  -18029300000.0\n",
      "Gross PPE                                                              63741600000.0   83290400000.0   78008800000.0   76280200000.0\n",
      "Construction In Progress                                               10195900000.0    4264300000.0    1829800000.0    1402400000.0\n",
      "Other Properties                                                       53545700000.0     769900000.0     769200000.0     744300000.0\n",
      "Machinery Furniture Equipment                                          51244500000.0   47846700000.0   45770600000.0   44444400000.0\n",
      "Buildings And Improvements                                             26881000000.0   23964600000.0   23197600000.0   23284600000.0\n",
      "Land And Improvements                                                   7987100000.0    6444900000.0    6441600000.0    6404500000.0\n",
      "Properties                                                                       0.0             0.0             0.0             0.0\n",
      "Current Assets                                                        165351600000.0  151523300000.0  120266000000.0   75801100000.0\n",
      "Other Current Assets                                                    5539800000.0    5412500000.0       4500000.0             NaN\n",
      "Hedging Assets Current                                                    23400000.0             0.0       8800000.0             NaN\n",
      "Assets Held For Sale Current                                                     0.0      81300000.0     134900000.0     138600000.0\n",
      "Restricted Cash                                                          567900000.0     558000000.0     428900000.0    2221500000.0\n",
      "Prepaid Assets                                                          2418000000.0    3294200000.0    3963000000.0    1427400000.0\n",
      "Inventory                                                              62106400000.0   61529800000.0   37986000000.0   33898100000.0\n",
      "Finished Goods                                                         36113300000.0   32933100000.0   20299000000.0   19774900000.0\n",
      "Work In Process                                                         1871100000.0    1950200000.0    1334600000.0     934200000.0\n",
      "Raw Materials                                                          24122000000.0   26646500000.0   16352400000.0   13189000000.0\n",
      "Other Receivables                                                       7545600000.0    7094400000.0    4090100000.0    4749100000.0\n",
      "Taxes Receivable                                                                 NaN             NaN      11800000.0      17000000.0\n",
      "Accounts Receivable                                                    46369400000.0   38714500000.0   26038000000.0   17952200000.0\n",
      "Allowance For Doubtful Accounts Receivable                             -3051300000.0   -2389500000.0   -1853100000.0   -1551200000.0\n",
      "Gross Accounts Receivable                                              49428700000.0   41104000000.0   27891100000.0   19503400000.0\n",
      "Cash Cash Equivalents And Short Term Investments                       51336000000.0   40251100000.0   47609100000.0   15411600000.0\n",
      "Other Short Term Investments                                           46105000000.0   34033900000.0   44145200000.0    9773300000.0\n",
      "Cash And Cash Equivalents                                               5231000000.0    6217200000.0    3463900000.0    5638300000.0\n",
      "Cash Equivalents                                                         583800000.0     627100000.0     260600000.0     243200000.0\n",
      "Cash Financial                                                          4647200000.0    5590100000.0    3203300000.0    5395100000.0\u001b[0m\n",
      "Thought:"
     ]
    },
    {
     "name": "stderr",
     "output_type": "stream",
     "text": [
      "Retrying langchain.llms.openai.completion_with_retry.<locals>._completion_with_retry in 4.0 seconds as it raised RateLimitError: Rate limit reached for default-gpt-3.5-turbo-16k in organization org-ee1LP900po9H9JaxPmhhwDap on requests per min. Limit: 3 / min. Please try again in 20s. Contact us through our help center at help.openai.com if you continue to have issues. Please add a payment method to your account to increase your rate limit. Visit https://platform.openai.com/account/billing to add a payment method..\n",
      "Retrying langchain.llms.openai.completion_with_retry.<locals>._completion_with_retry in 4.0 seconds as it raised RateLimitError: Rate limit reached for default-gpt-3.5-turbo-16k in organization org-ee1LP900po9H9JaxPmhhwDap on requests per min. Limit: 3 / min. Please try again in 20s. Contact us through our help center at help.openai.com if you continue to have issues. Please add a payment method to your account to increase your rate limit. Visit https://platform.openai.com/account/billing to add a payment method..\n"
     ]
    },
    {
     "name": "stdout",
     "output_type": "stream",
     "text": [
      "\u001b[32;1m\u001b[1;3mI have gathered the necessary data for Asian Paints. Now I can analyze the stock and provide a detailed analysis for investment choice.\n",
      "Action: Analyze the stock based on gathered data\n",
      "Action Input: Stock data, financial statements, recent news\u001b[0m\n",
      "Observation: Analyze the stock based on gathered data is not a valid tool, try another one.\n",
      "Thought:"
     ]
    },
    {
     "name": "stderr",
     "output_type": "stream",
     "text": [
      "Retrying langchain.llms.openai.completion_with_retry.<locals>._completion_with_retry in 4.0 seconds as it raised RateLimitError: Rate limit reached for default-gpt-3.5-turbo-16k in organization org-ee1LP900po9H9JaxPmhhwDap on requests per min. Limit: 3 / min. Please try again in 20s. Contact us through our help center at help.openai.com if you continue to have issues. Please add a payment method to your account to increase your rate limit. Visit https://platform.openai.com/account/billing to add a payment method..\n",
      "Retrying langchain.llms.openai.completion_with_retry.<locals>._completion_with_retry in 4.0 seconds as it raised RateLimitError: Rate limit reached for default-gpt-3.5-turbo-16k in organization org-ee1LP900po9H9JaxPmhhwDap on requests per min. Limit: 3 / min. Please try again in 20s. Contact us through our help center at help.openai.com if you continue to have issues. Please add a payment method to your account to increase your rate limit. Visit https://platform.openai.com/account/billing to add a payment method..\n",
      "Retrying langchain.llms.openai.completion_with_retry.<locals>._completion_with_retry in 4.0 seconds as it raised RateLimitError: Rate limit reached for default-gpt-3.5-turbo-16k in organization org-ee1LP900po9H9JaxPmhhwDap on requests per min. Limit: 3 / min. Please try again in 20s. Contact us through our help center at help.openai.com if you continue to have issues. Please add a payment method to your account to increase your rate limit. Visit https://platform.openai.com/account/billing to add a payment method..\n"
     ]
    },
    {
     "ename": "KeyboardInterrupt",
     "evalue": "",
     "output_type": "error",
     "traceback": [
      "\u001b[0;31m---------------------------------------------------------------------------\u001b[0m",
      "\u001b[0;31mKeyboardInterrupt\u001b[0m                         Traceback (most recent call last)",
      "Cell \u001b[0;32mIn[84], line 1\u001b[0m\n\u001b[0;32m----> 1\u001b[0m response \u001b[39m=\u001b[39m zero_shot_agent({\u001b[39m\"\u001b[39;49m\u001b[39minput\u001b[39;49m\u001b[39m\"\u001b[39;49m:\u001b[39m\"\u001b[39;49m\u001b[39mShall I invest in Asian paints?\u001b[39;49m\u001b[39m\"\u001b[39;49m})\n",
      "File \u001b[0;32m/mnt/e/Random Projects/wsl_env/lib/python3.10/site-packages/langchain/chains/base.py:243\u001b[0m, in \u001b[0;36mChain.__call__\u001b[0;34m(self, inputs, return_only_outputs, callbacks, tags, metadata, include_run_info)\u001b[0m\n\u001b[1;32m    241\u001b[0m \u001b[39mexcept\u001b[39;00m (\u001b[39mKeyboardInterrupt\u001b[39;00m, \u001b[39mException\u001b[39;00m) \u001b[39mas\u001b[39;00m e:\n\u001b[1;32m    242\u001b[0m     run_manager\u001b[39m.\u001b[39mon_chain_error(e)\n\u001b[0;32m--> 243\u001b[0m     \u001b[39mraise\u001b[39;00m e\n\u001b[1;32m    244\u001b[0m run_manager\u001b[39m.\u001b[39mon_chain_end(outputs)\n\u001b[1;32m    245\u001b[0m final_outputs: Dict[\u001b[39mstr\u001b[39m, Any] \u001b[39m=\u001b[39m \u001b[39mself\u001b[39m\u001b[39m.\u001b[39mprep_outputs(\n\u001b[1;32m    246\u001b[0m     inputs, outputs, return_only_outputs\n\u001b[1;32m    247\u001b[0m )\n",
      "File \u001b[0;32m/mnt/e/Random Projects/wsl_env/lib/python3.10/site-packages/langchain/chains/base.py:237\u001b[0m, in \u001b[0;36mChain.__call__\u001b[0;34m(self, inputs, return_only_outputs, callbacks, tags, metadata, include_run_info)\u001b[0m\n\u001b[1;32m    231\u001b[0m run_manager \u001b[39m=\u001b[39m callback_manager\u001b[39m.\u001b[39mon_chain_start(\n\u001b[1;32m    232\u001b[0m     dumpd(\u001b[39mself\u001b[39m),\n\u001b[1;32m    233\u001b[0m     inputs,\n\u001b[1;32m    234\u001b[0m )\n\u001b[1;32m    235\u001b[0m \u001b[39mtry\u001b[39;00m:\n\u001b[1;32m    236\u001b[0m     outputs \u001b[39m=\u001b[39m (\n\u001b[0;32m--> 237\u001b[0m         \u001b[39mself\u001b[39;49m\u001b[39m.\u001b[39;49m_call(inputs, run_manager\u001b[39m=\u001b[39;49mrun_manager)\n\u001b[1;32m    238\u001b[0m         \u001b[39mif\u001b[39;00m new_arg_supported\n\u001b[1;32m    239\u001b[0m         \u001b[39melse\u001b[39;00m \u001b[39mself\u001b[39m\u001b[39m.\u001b[39m_call(inputs)\n\u001b[1;32m    240\u001b[0m     )\n\u001b[1;32m    241\u001b[0m \u001b[39mexcept\u001b[39;00m (\u001b[39mKeyboardInterrupt\u001b[39;00m, \u001b[39mException\u001b[39;00m) \u001b[39mas\u001b[39;00m e:\n\u001b[1;32m    242\u001b[0m     run_manager\u001b[39m.\u001b[39mon_chain_error(e)\n",
      "File \u001b[0;32m/mnt/e/Random Projects/wsl_env/lib/python3.10/site-packages/langchain/agents/agent.py:987\u001b[0m, in \u001b[0;36mAgentExecutor._call\u001b[0;34m(self, inputs, run_manager)\u001b[0m\n\u001b[1;32m    985\u001b[0m \u001b[39m# We now enter the agent loop (until it returns something).\u001b[39;00m\n\u001b[1;32m    986\u001b[0m \u001b[39mwhile\u001b[39;00m \u001b[39mself\u001b[39m\u001b[39m.\u001b[39m_should_continue(iterations, time_elapsed):\n\u001b[0;32m--> 987\u001b[0m     next_step_output \u001b[39m=\u001b[39m \u001b[39mself\u001b[39;49m\u001b[39m.\u001b[39;49m_take_next_step(\n\u001b[1;32m    988\u001b[0m         name_to_tool_map,\n\u001b[1;32m    989\u001b[0m         color_mapping,\n\u001b[1;32m    990\u001b[0m         inputs,\n\u001b[1;32m    991\u001b[0m         intermediate_steps,\n\u001b[1;32m    992\u001b[0m         run_manager\u001b[39m=\u001b[39;49mrun_manager,\n\u001b[1;32m    993\u001b[0m     )\n\u001b[1;32m    994\u001b[0m     \u001b[39mif\u001b[39;00m \u001b[39misinstance\u001b[39m(next_step_output, AgentFinish):\n\u001b[1;32m    995\u001b[0m         \u001b[39mreturn\u001b[39;00m \u001b[39mself\u001b[39m\u001b[39m.\u001b[39m_return(\n\u001b[1;32m    996\u001b[0m             next_step_output, intermediate_steps, run_manager\u001b[39m=\u001b[39mrun_manager\n\u001b[1;32m    997\u001b[0m         )\n",
      "File \u001b[0;32m/mnt/e/Random Projects/wsl_env/lib/python3.10/site-packages/langchain/agents/agent.py:792\u001b[0m, in \u001b[0;36mAgentExecutor._take_next_step\u001b[0;34m(self, name_to_tool_map, color_mapping, inputs, intermediate_steps, run_manager)\u001b[0m\n\u001b[1;32m    786\u001b[0m \u001b[39m\u001b[39m\u001b[39m\"\"\"Take a single step in the thought-action-observation loop.\u001b[39;00m\n\u001b[1;32m    787\u001b[0m \n\u001b[1;32m    788\u001b[0m \u001b[39mOverride this to take control of how the agent makes and acts on choices.\u001b[39;00m\n\u001b[1;32m    789\u001b[0m \u001b[39m\"\"\"\u001b[39;00m\n\u001b[1;32m    790\u001b[0m \u001b[39mtry\u001b[39;00m:\n\u001b[1;32m    791\u001b[0m     \u001b[39m# Call the LLM to see what to do.\u001b[39;00m\n\u001b[0;32m--> 792\u001b[0m     output \u001b[39m=\u001b[39m \u001b[39mself\u001b[39;49m\u001b[39m.\u001b[39;49magent\u001b[39m.\u001b[39;49mplan(\n\u001b[1;32m    793\u001b[0m         intermediate_steps,\n\u001b[1;32m    794\u001b[0m         callbacks\u001b[39m=\u001b[39;49mrun_manager\u001b[39m.\u001b[39;49mget_child() \u001b[39mif\u001b[39;49;00m run_manager \u001b[39melse\u001b[39;49;00m \u001b[39mNone\u001b[39;49;00m,\n\u001b[1;32m    795\u001b[0m         \u001b[39m*\u001b[39;49m\u001b[39m*\u001b[39;49minputs,\n\u001b[1;32m    796\u001b[0m     )\n\u001b[1;32m    797\u001b[0m \u001b[39mexcept\u001b[39;00m OutputParserException \u001b[39mas\u001b[39;00m e:\n\u001b[1;32m    798\u001b[0m     \u001b[39mif\u001b[39;00m \u001b[39misinstance\u001b[39m(\u001b[39mself\u001b[39m\u001b[39m.\u001b[39mhandle_parsing_errors, \u001b[39mbool\u001b[39m):\n",
      "File \u001b[0;32m/mnt/e/Random Projects/wsl_env/lib/python3.10/site-packages/langchain/agents/agent.py:443\u001b[0m, in \u001b[0;36mAgent.plan\u001b[0;34m(self, intermediate_steps, callbacks, **kwargs)\u001b[0m\n\u001b[1;32m    431\u001b[0m \u001b[39m\u001b[39m\u001b[39m\"\"\"Given input, decided what to do.\u001b[39;00m\n\u001b[1;32m    432\u001b[0m \n\u001b[1;32m    433\u001b[0m \u001b[39mArgs:\u001b[39;00m\n\u001b[0;32m   (...)\u001b[0m\n\u001b[1;32m    440\u001b[0m \u001b[39m    Action specifying what tool to use.\u001b[39;00m\n\u001b[1;32m    441\u001b[0m \u001b[39m\"\"\"\u001b[39;00m\n\u001b[1;32m    442\u001b[0m full_inputs \u001b[39m=\u001b[39m \u001b[39mself\u001b[39m\u001b[39m.\u001b[39mget_full_inputs(intermediate_steps, \u001b[39m*\u001b[39m\u001b[39m*\u001b[39mkwargs)\n\u001b[0;32m--> 443\u001b[0m full_output \u001b[39m=\u001b[39m \u001b[39mself\u001b[39;49m\u001b[39m.\u001b[39;49mllm_chain\u001b[39m.\u001b[39;49mpredict(callbacks\u001b[39m=\u001b[39;49mcallbacks, \u001b[39m*\u001b[39;49m\u001b[39m*\u001b[39;49mfull_inputs)\n\u001b[1;32m    444\u001b[0m \u001b[39mreturn\u001b[39;00m \u001b[39mself\u001b[39m\u001b[39m.\u001b[39moutput_parser\u001b[39m.\u001b[39mparse(full_output)\n",
      "File \u001b[0;32m/mnt/e/Random Projects/wsl_env/lib/python3.10/site-packages/langchain/chains/llm.py:252\u001b[0m, in \u001b[0;36mLLMChain.predict\u001b[0;34m(self, callbacks, **kwargs)\u001b[0m\n\u001b[1;32m    237\u001b[0m \u001b[39mdef\u001b[39;00m \u001b[39mpredict\u001b[39m(\u001b[39mself\u001b[39m, callbacks: Callbacks \u001b[39m=\u001b[39m \u001b[39mNone\u001b[39;00m, \u001b[39m*\u001b[39m\u001b[39m*\u001b[39mkwargs: Any) \u001b[39m-\u001b[39m\u001b[39m>\u001b[39m \u001b[39mstr\u001b[39m:\n\u001b[1;32m    238\u001b[0m \u001b[39m    \u001b[39m\u001b[39m\"\"\"Format prompt with kwargs and pass to LLM.\u001b[39;00m\n\u001b[1;32m    239\u001b[0m \n\u001b[1;32m    240\u001b[0m \u001b[39m    Args:\u001b[39;00m\n\u001b[0;32m   (...)\u001b[0m\n\u001b[1;32m    250\u001b[0m \u001b[39m            completion = llm.predict(adjective=\"funny\")\u001b[39;00m\n\u001b[1;32m    251\u001b[0m \u001b[39m    \"\"\"\u001b[39;00m\n\u001b[0;32m--> 252\u001b[0m     \u001b[39mreturn\u001b[39;00m \u001b[39mself\u001b[39;49m(kwargs, callbacks\u001b[39m=\u001b[39;49mcallbacks)[\u001b[39mself\u001b[39m\u001b[39m.\u001b[39moutput_key]\n",
      "File \u001b[0;32m/mnt/e/Random Projects/wsl_env/lib/python3.10/site-packages/langchain/chains/base.py:243\u001b[0m, in \u001b[0;36mChain.__call__\u001b[0;34m(self, inputs, return_only_outputs, callbacks, tags, metadata, include_run_info)\u001b[0m\n\u001b[1;32m    241\u001b[0m \u001b[39mexcept\u001b[39;00m (\u001b[39mKeyboardInterrupt\u001b[39;00m, \u001b[39mException\u001b[39;00m) \u001b[39mas\u001b[39;00m e:\n\u001b[1;32m    242\u001b[0m     run_manager\u001b[39m.\u001b[39mon_chain_error(e)\n\u001b[0;32m--> 243\u001b[0m     \u001b[39mraise\u001b[39;00m e\n\u001b[1;32m    244\u001b[0m run_manager\u001b[39m.\u001b[39mon_chain_end(outputs)\n\u001b[1;32m    245\u001b[0m final_outputs: Dict[\u001b[39mstr\u001b[39m, Any] \u001b[39m=\u001b[39m \u001b[39mself\u001b[39m\u001b[39m.\u001b[39mprep_outputs(\n\u001b[1;32m    246\u001b[0m     inputs, outputs, return_only_outputs\n\u001b[1;32m    247\u001b[0m )\n",
      "File \u001b[0;32m/mnt/e/Random Projects/wsl_env/lib/python3.10/site-packages/langchain/chains/base.py:237\u001b[0m, in \u001b[0;36mChain.__call__\u001b[0;34m(self, inputs, return_only_outputs, callbacks, tags, metadata, include_run_info)\u001b[0m\n\u001b[1;32m    231\u001b[0m run_manager \u001b[39m=\u001b[39m callback_manager\u001b[39m.\u001b[39mon_chain_start(\n\u001b[1;32m    232\u001b[0m     dumpd(\u001b[39mself\u001b[39m),\n\u001b[1;32m    233\u001b[0m     inputs,\n\u001b[1;32m    234\u001b[0m )\n\u001b[1;32m    235\u001b[0m \u001b[39mtry\u001b[39;00m:\n\u001b[1;32m    236\u001b[0m     outputs \u001b[39m=\u001b[39m (\n\u001b[0;32m--> 237\u001b[0m         \u001b[39mself\u001b[39;49m\u001b[39m.\u001b[39;49m_call(inputs, run_manager\u001b[39m=\u001b[39;49mrun_manager)\n\u001b[1;32m    238\u001b[0m         \u001b[39mif\u001b[39;00m new_arg_supported\n\u001b[1;32m    239\u001b[0m         \u001b[39melse\u001b[39;00m \u001b[39mself\u001b[39m\u001b[39m.\u001b[39m_call(inputs)\n\u001b[1;32m    240\u001b[0m     )\n\u001b[1;32m    241\u001b[0m \u001b[39mexcept\u001b[39;00m (\u001b[39mKeyboardInterrupt\u001b[39;00m, \u001b[39mException\u001b[39;00m) \u001b[39mas\u001b[39;00m e:\n\u001b[1;32m    242\u001b[0m     run_manager\u001b[39m.\u001b[39mon_chain_error(e)\n",
      "File \u001b[0;32m/mnt/e/Random Projects/wsl_env/lib/python3.10/site-packages/langchain/chains/llm.py:92\u001b[0m, in \u001b[0;36mLLMChain._call\u001b[0;34m(self, inputs, run_manager)\u001b[0m\n\u001b[1;32m     87\u001b[0m \u001b[39mdef\u001b[39;00m \u001b[39m_call\u001b[39m(\n\u001b[1;32m     88\u001b[0m     \u001b[39mself\u001b[39m,\n\u001b[1;32m     89\u001b[0m     inputs: Dict[\u001b[39mstr\u001b[39m, Any],\n\u001b[1;32m     90\u001b[0m     run_manager: Optional[CallbackManagerForChainRun] \u001b[39m=\u001b[39m \u001b[39mNone\u001b[39;00m,\n\u001b[1;32m     91\u001b[0m ) \u001b[39m-\u001b[39m\u001b[39m>\u001b[39m Dict[\u001b[39mstr\u001b[39m, \u001b[39mstr\u001b[39m]:\n\u001b[0;32m---> 92\u001b[0m     response \u001b[39m=\u001b[39m \u001b[39mself\u001b[39;49m\u001b[39m.\u001b[39;49mgenerate([inputs], run_manager\u001b[39m=\u001b[39;49mrun_manager)\n\u001b[1;32m     93\u001b[0m     \u001b[39mreturn\u001b[39;00m \u001b[39mself\u001b[39m\u001b[39m.\u001b[39mcreate_outputs(response)[\u001b[39m0\u001b[39m]\n",
      "File \u001b[0;32m/mnt/e/Random Projects/wsl_env/lib/python3.10/site-packages/langchain/chains/llm.py:102\u001b[0m, in \u001b[0;36mLLMChain.generate\u001b[0;34m(self, input_list, run_manager)\u001b[0m\n\u001b[1;32m    100\u001b[0m \u001b[39m\u001b[39m\u001b[39m\"\"\"Generate LLM result from inputs.\"\"\"\u001b[39;00m\n\u001b[1;32m    101\u001b[0m prompts, stop \u001b[39m=\u001b[39m \u001b[39mself\u001b[39m\u001b[39m.\u001b[39mprep_prompts(input_list, run_manager\u001b[39m=\u001b[39mrun_manager)\n\u001b[0;32m--> 102\u001b[0m \u001b[39mreturn\u001b[39;00m \u001b[39mself\u001b[39;49m\u001b[39m.\u001b[39;49mllm\u001b[39m.\u001b[39;49mgenerate_prompt(\n\u001b[1;32m    103\u001b[0m     prompts,\n\u001b[1;32m    104\u001b[0m     stop,\n\u001b[1;32m    105\u001b[0m     callbacks\u001b[39m=\u001b[39;49mrun_manager\u001b[39m.\u001b[39;49mget_child() \u001b[39mif\u001b[39;49;00m run_manager \u001b[39melse\u001b[39;49;00m \u001b[39mNone\u001b[39;49;00m,\n\u001b[1;32m    106\u001b[0m     \u001b[39m*\u001b[39;49m\u001b[39m*\u001b[39;49m\u001b[39mself\u001b[39;49m\u001b[39m.\u001b[39;49mllm_kwargs,\n\u001b[1;32m    107\u001b[0m )\n",
      "File \u001b[0;32m/mnt/e/Random Projects/wsl_env/lib/python3.10/site-packages/langchain/llms/base.py:186\u001b[0m, in \u001b[0;36mBaseLLM.generate_prompt\u001b[0;34m(self, prompts, stop, callbacks, **kwargs)\u001b[0m\n\u001b[1;32m    178\u001b[0m \u001b[39mdef\u001b[39;00m \u001b[39mgenerate_prompt\u001b[39m(\n\u001b[1;32m    179\u001b[0m     \u001b[39mself\u001b[39m,\n\u001b[1;32m    180\u001b[0m     prompts: List[PromptValue],\n\u001b[0;32m   (...)\u001b[0m\n\u001b[1;32m    183\u001b[0m     \u001b[39m*\u001b[39m\u001b[39m*\u001b[39mkwargs: Any,\n\u001b[1;32m    184\u001b[0m ) \u001b[39m-\u001b[39m\u001b[39m>\u001b[39m LLMResult:\n\u001b[1;32m    185\u001b[0m     prompt_strings \u001b[39m=\u001b[39m [p\u001b[39m.\u001b[39mto_string() \u001b[39mfor\u001b[39;00m p \u001b[39min\u001b[39;00m prompts]\n\u001b[0;32m--> 186\u001b[0m     \u001b[39mreturn\u001b[39;00m \u001b[39mself\u001b[39;49m\u001b[39m.\u001b[39;49mgenerate(prompt_strings, stop\u001b[39m=\u001b[39;49mstop, callbacks\u001b[39m=\u001b[39;49mcallbacks, \u001b[39m*\u001b[39;49m\u001b[39m*\u001b[39;49mkwargs)\n",
      "File \u001b[0;32m/mnt/e/Random Projects/wsl_env/lib/python3.10/site-packages/langchain/llms/base.py:279\u001b[0m, in \u001b[0;36mBaseLLM.generate\u001b[0;34m(self, prompts, stop, callbacks, tags, metadata, **kwargs)\u001b[0m\n\u001b[1;32m    273\u001b[0m         \u001b[39mraise\u001b[39;00m \u001b[39mValueError\u001b[39;00m(\n\u001b[1;32m    274\u001b[0m             \u001b[39m\"\u001b[39m\u001b[39mAsked to cache, but no cache found at `langchain.cache`.\u001b[39m\u001b[39m\"\u001b[39m\n\u001b[1;32m    275\u001b[0m         )\n\u001b[1;32m    276\u001b[0m     run_managers \u001b[39m=\u001b[39m callback_manager\u001b[39m.\u001b[39mon_llm_start(\n\u001b[1;32m    277\u001b[0m         dumpd(\u001b[39mself\u001b[39m), prompts, invocation_params\u001b[39m=\u001b[39mparams, options\u001b[39m=\u001b[39moptions\n\u001b[1;32m    278\u001b[0m     )\n\u001b[0;32m--> 279\u001b[0m     output \u001b[39m=\u001b[39m \u001b[39mself\u001b[39;49m\u001b[39m.\u001b[39;49m_generate_helper(\n\u001b[1;32m    280\u001b[0m         prompts, stop, run_managers, \u001b[39mbool\u001b[39;49m(new_arg_supported), \u001b[39m*\u001b[39;49m\u001b[39m*\u001b[39;49mkwargs\n\u001b[1;32m    281\u001b[0m     )\n\u001b[1;32m    282\u001b[0m     \u001b[39mreturn\u001b[39;00m output\n\u001b[1;32m    283\u001b[0m \u001b[39mif\u001b[39;00m \u001b[39mlen\u001b[39m(missing_prompts) \u001b[39m>\u001b[39m \u001b[39m0\u001b[39m:\n",
      "File \u001b[0;32m/mnt/e/Random Projects/wsl_env/lib/python3.10/site-packages/langchain/llms/base.py:223\u001b[0m, in \u001b[0;36mBaseLLM._generate_helper\u001b[0;34m(self, prompts, stop, run_managers, new_arg_supported, **kwargs)\u001b[0m\n\u001b[1;32m    221\u001b[0m     \u001b[39mfor\u001b[39;00m run_manager \u001b[39min\u001b[39;00m run_managers:\n\u001b[1;32m    222\u001b[0m         run_manager\u001b[39m.\u001b[39mon_llm_error(e)\n\u001b[0;32m--> 223\u001b[0m     \u001b[39mraise\u001b[39;00m e\n\u001b[1;32m    224\u001b[0m flattened_outputs \u001b[39m=\u001b[39m output\u001b[39m.\u001b[39mflatten()\n\u001b[1;32m    225\u001b[0m \u001b[39mfor\u001b[39;00m manager, flattened_output \u001b[39min\u001b[39;00m \u001b[39mzip\u001b[39m(run_managers, flattened_outputs):\n",
      "File \u001b[0;32m/mnt/e/Random Projects/wsl_env/lib/python3.10/site-packages/langchain/llms/base.py:210\u001b[0m, in \u001b[0;36mBaseLLM._generate_helper\u001b[0;34m(self, prompts, stop, run_managers, new_arg_supported, **kwargs)\u001b[0m\n\u001b[1;32m    200\u001b[0m \u001b[39mdef\u001b[39;00m \u001b[39m_generate_helper\u001b[39m(\n\u001b[1;32m    201\u001b[0m     \u001b[39mself\u001b[39m,\n\u001b[1;32m    202\u001b[0m     prompts: List[\u001b[39mstr\u001b[39m],\n\u001b[0;32m   (...)\u001b[0m\n\u001b[1;32m    206\u001b[0m     \u001b[39m*\u001b[39m\u001b[39m*\u001b[39mkwargs: Any,\n\u001b[1;32m    207\u001b[0m ) \u001b[39m-\u001b[39m\u001b[39m>\u001b[39m LLMResult:\n\u001b[1;32m    208\u001b[0m     \u001b[39mtry\u001b[39;00m:\n\u001b[1;32m    209\u001b[0m         output \u001b[39m=\u001b[39m (\n\u001b[0;32m--> 210\u001b[0m             \u001b[39mself\u001b[39;49m\u001b[39m.\u001b[39;49m_generate(\n\u001b[1;32m    211\u001b[0m                 prompts,\n\u001b[1;32m    212\u001b[0m                 stop\u001b[39m=\u001b[39;49mstop,\n\u001b[1;32m    213\u001b[0m                 \u001b[39m# TODO: support multiple run managers\u001b[39;49;00m\n\u001b[1;32m    214\u001b[0m                 run_manager\u001b[39m=\u001b[39;49mrun_managers[\u001b[39m0\u001b[39;49m] \u001b[39mif\u001b[39;49;00m run_managers \u001b[39melse\u001b[39;49;00m \u001b[39mNone\u001b[39;49;00m,\n\u001b[1;32m    215\u001b[0m                 \u001b[39m*\u001b[39;49m\u001b[39m*\u001b[39;49mkwargs,\n\u001b[1;32m    216\u001b[0m             )\n\u001b[1;32m    217\u001b[0m             \u001b[39mif\u001b[39;00m new_arg_supported\n\u001b[1;32m    218\u001b[0m             \u001b[39melse\u001b[39;00m \u001b[39mself\u001b[39m\u001b[39m.\u001b[39m_generate(prompts, stop\u001b[39m=\u001b[39mstop)\n\u001b[1;32m    219\u001b[0m         )\n\u001b[1;32m    220\u001b[0m     \u001b[39mexcept\u001b[39;00m (\u001b[39mKeyboardInterrupt\u001b[39;00m, \u001b[39mException\u001b[39;00m) \u001b[39mas\u001b[39;00m e:\n\u001b[1;32m    221\u001b[0m         \u001b[39mfor\u001b[39;00m run_manager \u001b[39min\u001b[39;00m run_managers:\n",
      "File \u001b[0;32m/mnt/e/Random Projects/wsl_env/lib/python3.10/site-packages/langchain/llms/openai.py:806\u001b[0m, in \u001b[0;36mOpenAIChat._generate\u001b[0;34m(self, prompts, stop, run_manager, **kwargs)\u001b[0m\n\u001b[1;32m    802\u001b[0m     \u001b[39mreturn\u001b[39;00m LLMResult(\n\u001b[1;32m    803\u001b[0m         generations\u001b[39m=\u001b[39m[[Generation(text\u001b[39m=\u001b[39mresponse)]],\n\u001b[1;32m    804\u001b[0m     )\n\u001b[1;32m    805\u001b[0m \u001b[39melse\u001b[39;00m:\n\u001b[0;32m--> 806\u001b[0m     full_response \u001b[39m=\u001b[39m completion_with_retry(\u001b[39mself\u001b[39;49m, messages\u001b[39m=\u001b[39;49mmessages, \u001b[39m*\u001b[39;49m\u001b[39m*\u001b[39;49mparams)\n\u001b[1;32m    807\u001b[0m     llm_output \u001b[39m=\u001b[39m {\n\u001b[1;32m    808\u001b[0m         \u001b[39m\"\u001b[39m\u001b[39mtoken_usage\u001b[39m\u001b[39m\"\u001b[39m: full_response[\u001b[39m\"\u001b[39m\u001b[39musage\u001b[39m\u001b[39m\"\u001b[39m],\n\u001b[1;32m    809\u001b[0m         \u001b[39m\"\u001b[39m\u001b[39mmodel_name\u001b[39m\u001b[39m\"\u001b[39m: \u001b[39mself\u001b[39m\u001b[39m.\u001b[39mmodel_name,\n\u001b[1;32m    810\u001b[0m     }\n\u001b[1;32m    811\u001b[0m     \u001b[39mreturn\u001b[39;00m LLMResult(\n\u001b[1;32m    812\u001b[0m         generations\u001b[39m=\u001b[39m[\n\u001b[1;32m    813\u001b[0m             [Generation(text\u001b[39m=\u001b[39mfull_response[\u001b[39m\"\u001b[39m\u001b[39mchoices\u001b[39m\u001b[39m\"\u001b[39m][\u001b[39m0\u001b[39m][\u001b[39m\"\u001b[39m\u001b[39mmessage\u001b[39m\u001b[39m\"\u001b[39m][\u001b[39m\"\u001b[39m\u001b[39mcontent\u001b[39m\u001b[39m\"\u001b[39m])]\n\u001b[1;32m    814\u001b[0m         ],\n\u001b[1;32m    815\u001b[0m         llm_output\u001b[39m=\u001b[39mllm_output,\n\u001b[1;32m    816\u001b[0m     )\n",
      "File \u001b[0;32m/mnt/e/Random Projects/wsl_env/lib/python3.10/site-packages/langchain/llms/openai.py:90\u001b[0m, in \u001b[0;36mcompletion_with_retry\u001b[0;34m(llm, **kwargs)\u001b[0m\n\u001b[1;32m     86\u001b[0m \u001b[39m@retry_decorator\u001b[39m\n\u001b[1;32m     87\u001b[0m \u001b[39mdef\u001b[39;00m \u001b[39m_completion_with_retry\u001b[39m(\u001b[39m*\u001b[39m\u001b[39m*\u001b[39mkwargs: Any) \u001b[39m-\u001b[39m\u001b[39m>\u001b[39m Any:\n\u001b[1;32m     88\u001b[0m     \u001b[39mreturn\u001b[39;00m llm\u001b[39m.\u001b[39mclient\u001b[39m.\u001b[39mcreate(\u001b[39m*\u001b[39m\u001b[39m*\u001b[39mkwargs)\n\u001b[0;32m---> 90\u001b[0m \u001b[39mreturn\u001b[39;00m _completion_with_retry(\u001b[39m*\u001b[39;49m\u001b[39m*\u001b[39;49mkwargs)\n",
      "File \u001b[0;32m/mnt/e/Random Projects/wsl_env/lib/python3.10/site-packages/tenacity/__init__.py:289\u001b[0m, in \u001b[0;36mBaseRetrying.wraps.<locals>.wrapped_f\u001b[0;34m(*args, **kw)\u001b[0m\n\u001b[1;32m    287\u001b[0m \u001b[39m@functools\u001b[39m\u001b[39m.\u001b[39mwraps(f)\n\u001b[1;32m    288\u001b[0m \u001b[39mdef\u001b[39;00m \u001b[39mwrapped_f\u001b[39m(\u001b[39m*\u001b[39margs: t\u001b[39m.\u001b[39mAny, \u001b[39m*\u001b[39m\u001b[39m*\u001b[39mkw: t\u001b[39m.\u001b[39mAny) \u001b[39m-\u001b[39m\u001b[39m>\u001b[39m t\u001b[39m.\u001b[39mAny:\n\u001b[0;32m--> 289\u001b[0m     \u001b[39mreturn\u001b[39;00m \u001b[39mself\u001b[39;49m(f, \u001b[39m*\u001b[39;49margs, \u001b[39m*\u001b[39;49m\u001b[39m*\u001b[39;49mkw)\n",
      "File \u001b[0;32m/mnt/e/Random Projects/wsl_env/lib/python3.10/site-packages/tenacity/__init__.py:389\u001b[0m, in \u001b[0;36mRetrying.__call__\u001b[0;34m(self, fn, *args, **kwargs)\u001b[0m\n\u001b[1;32m    387\u001b[0m \u001b[39melif\u001b[39;00m \u001b[39misinstance\u001b[39m(do, DoSleep):\n\u001b[1;32m    388\u001b[0m     retry_state\u001b[39m.\u001b[39mprepare_for_next_attempt()\n\u001b[0;32m--> 389\u001b[0m     \u001b[39mself\u001b[39;49m\u001b[39m.\u001b[39;49msleep(do)\n\u001b[1;32m    390\u001b[0m \u001b[39melse\u001b[39;00m:\n\u001b[1;32m    391\u001b[0m     \u001b[39mreturn\u001b[39;00m do\n",
      "File \u001b[0;32m/mnt/e/Random Projects/wsl_env/lib/python3.10/site-packages/tenacity/nap.py:31\u001b[0m, in \u001b[0;36msleep\u001b[0;34m(seconds)\u001b[0m\n\u001b[1;32m     25\u001b[0m \u001b[39mdef\u001b[39;00m \u001b[39msleep\u001b[39m(seconds: \u001b[39mfloat\u001b[39m) \u001b[39m-\u001b[39m\u001b[39m>\u001b[39m \u001b[39mNone\u001b[39;00m:\n\u001b[1;32m     26\u001b[0m \u001b[39m    \u001b[39m\u001b[39m\"\"\"\u001b[39;00m\n\u001b[1;32m     27\u001b[0m \u001b[39m    Sleep strategy that delays execution for a given number of seconds.\u001b[39;00m\n\u001b[1;32m     28\u001b[0m \n\u001b[1;32m     29\u001b[0m \u001b[39m    This is the default strategy, and may be mocked out for unit testing.\u001b[39;00m\n\u001b[1;32m     30\u001b[0m \u001b[39m    \"\"\"\u001b[39;00m\n\u001b[0;32m---> 31\u001b[0m     time\u001b[39m.\u001b[39;49msleep(seconds)\n",
      "\u001b[0;31mKeyboardInterrupt\u001b[0m: "
     ]
    }
   ],
   "source": [
    "response = zero_shot_agent({\"input\":\"Shall I invest in Asian paints?\"})"
   ]
  },
  {
   "cell_type": "code",
   "execution_count": null,
   "metadata": {},
   "outputs": [],
   "source": [
    "# The why this approach did not work is added in the github readme\n",
    "# It is recommended to use the approach2 for robust results"
   ]
  },
  {
   "cell_type": "markdown",
   "metadata": {},
   "source": [
    "##### Approach 2"
   ]
  },
  {
   "cell_type": "code",
   "execution_count": null,
   "metadata": {},
   "outputs": [],
   "source": [
    "import openai\n",
    "\n",
    "import os\n",
    "os.environ[\"OPENAI_API_KEY\"] = \"Enter your API key here\"\n",
    "openai.api_key=\"Enter your API key here\"\n"
   ]
  },
  {
   "cell_type": "code",
   "execution_count": null,
   "metadata": {},
   "outputs": [],
   "source": [
    "from langchain.llms import OpenAI\n",
    "\n",
    "llm=OpenAI(temperature=0,\n",
    "           model_name=\"gpt-3.5-turbo-16k-0613\")"
   ]
  },
  {
   "cell_type": "code",
   "execution_count": null,
   "metadata": {},
   "outputs": [
    {
     "data": {
      "text/plain": [
       "('Paytm', 'PAYTM')"
      ]
     },
     "execution_count": 11,
     "metadata": {},
     "output_type": "execute_result"
    }
   ],
   "source": [
    "#Openai function calling\n",
    "\n",
    "import json\n",
    "function=[\n",
    "        {\n",
    "        \"name\": \"get_company_Stock_ticker\",\n",
    "        \"description\": \"This will get the indian NSE/BSE stock ticker of the company\",\n",
    "        \"parameters\": {\n",
    "            \"type\": \"object\",\n",
    "            \"properties\": {\n",
    "                \"ticker_symbol\": {\n",
    "                    \"type\": \"string\",\n",
    "                    \"description\": \"This is the stock symbol of the company.\",\n",
    "                },\n",
    "\n",
    "                \"company_name\": {\n",
    "                    \"type\": \"string\",\n",
    "                    \"description\": \"This is the name of the company given in query\",\n",
    "                }\n",
    "            },\n",
    "            \"required\": [\"company_name\",\"ticker_symbol\"],\n",
    "        },\n",
    "    }\n",
    "]\n",
    "\n",
    "\n",
    "\n",
    "def get_stock_ticker(query):\n",
    "    response = openai.ChatCompletion.create(\n",
    "            model=\"gpt-3.5-turbo\",\n",
    "            temperature=0,\n",
    "            messages=[{\n",
    "                \"role\":\"user\",\n",
    "                \"content\":f\"Given the user request, what is the comapany name and the company stock ticker ?: {query}?\"\n",
    "            }],\n",
    "            functions=function,\n",
    "            function_call={\"name\": \"get_company_Stock_ticker\"},\n",
    "    )\n",
    "    message = response[\"choices\"][0][\"message\"]\n",
    "    arguments = json.loads(message[\"function_call\"][\"arguments\"])\n",
    "    company_name = arguments[\"company_name\"]\n",
    "    company_ticker = arguments[\"ticker_symbol\"]\n",
    "    return company_name,company_ticker\n",
    "\n",
    "get_stock_ticker(\"How is ths stock of Paytm doing?\")"
   ]
  },
  {
   "cell_type": "code",
   "execution_count": null,
   "metadata": {},
   "outputs": [],
   "source": [
    "def Anazlyze_stock(query):\n",
    "    #agent.run(query) Outputs Company name, Ticker\n",
    "    Company_name,ticker=get_stock_ticker(query)\n",
    "    print({\"Query\":query,\"Company_name\":Company_name,\"Ticker\":ticker})\n",
    "    stock_data=get_stock_price(ticker,history=10)\n",
    "    stock_financials=get_financial_statements(ticker)\n",
    "    stock_news=get_recent_stock_news(Company_name)\n",
    "\n",
    "    # available_information=f\"Stock Price: {stock_data}\\n\\nStock Financials: {stock_financials}\\n\\nStock News: {stock_news}\"\n",
    "    available_information=f\"Stock Financials: {stock_financials}\\n\\nStock News: {stock_news}\"\n",
    "\n",
    "    print(\"\\n\\nAnalyzing.....\\n\")\n",
    "    analysis=llm(f\"Give detail stock analysis, Use the available data and provide investment recommendation. \\\n",
    "             The user is fully aware about the investment risk, dont include any kind of warning like 'It is recommended to conduct further research and analysis or consult with a financial advisor before making an investment decision' in the answer \\\n",
    "             User question: {query} \\\n",
    "             You have the following information available about {Company_name}. Write (5-8) pointwise investment analysis to answer user query, At the end conclude with proper explaination.Try to Give positives and negatives  : \\\n",
    "              {available_information} \"\n",
    "             )\n",
    "    print(analysis)\n",
    "\n",
    "    return analysis"
   ]
  },
  {
   "cell_type": "code",
   "execution_count": null,
   "metadata": {},
   "outputs": [
    {
     "name": "stdout",
     "output_type": "stream",
     "text": [
      "{'Query': 'Shall I invest in Adani power right now?', 'Company_name': 'Adani Power', 'Ticker': 'ADANIPOWER'}\n",
      "\n",
      "\n",
      "Analyzing.....\n",
      "\n",
      "Investment Thesis for Adani Power:\n",
      "\n",
      "1. Strong Financials: Adani Power has shown consistent growth in its financials over the past three years. The company has a positive tangible book value, indicating a strong asset base. Additionally, the company has a high invested capital, which suggests a strong financial position.\n",
      "\n",
      "2. Increasing Stock Price: The stock price of Adani Power has been increasing steadily over the past few days. This indicates positive investor sentiment and potential for further growth in the future.\n",
      "\n",
      "3. Declining Revenues: Adani Power has reported declining revenues in its recent quarterly results. This could be a concern for investors as it may indicate a slowdown in the company's business operations. However, further analysis is required to determine the reasons behind the decline and its potential impact on future performance.\n",
      "\n",
      "4. Positive News Coverage: Adani Power has been in the news recently, with multiple articles highlighting the company's performance and prospects. Positive news coverage can attract more investors and potentially drive up the stock price.\n",
      "\n",
      "5. Power Sector Outlook: The power sector in India is expected to grow in the coming years due to increasing demand for electricity. Adani Power, being a major player in the sector, is well-positioned to benefit from this growth. However, it is important to consider the competitive landscape and regulatory environment of the sector before making an investment decision.\n",
      "\n",
      "Conclusion:\n",
      "\n",
      "Based on the available data, investing in Adani Power right now could be a favorable option. The company has strong financials and a positive stock price trend. However, it is important to conduct further research and analysis to fully understand the reasons behind the declining revenues and assess the potential risks associated with the power sector.\n"
     ]
    }
   ],
   "source": [
    "\n",
    "out=Anazlyze_stock(\"Shall I invest in Adani power right now?\")    \n"
   ]
  },
  {
   "cell_type": "code",
   "execution_count": null,
   "metadata": {},
   "outputs": [
    {
     "name": "stdout",
     "output_type": "stream",
     "text": [
      "{'Query': 'Is it a good time to invest in Yes Bank?', 'Company_name': 'Yes Bank', 'Ticker': 'YESBANK'}\n",
      "\n",
      "\n",
      "Analyzing.....\n",
      "\n",
      "Investment Thesis for Yes Bank:\n",
      "\n",
      "1. Financial Performance: Yes Bank has shown improvement in its financials over the past three years. The net debt has increased, indicating higher borrowing, but the tangible book value and common stock equity have also increased, suggesting a stronger financial position.\n",
      "\n",
      "2. Total Capitalization: The total capitalization of Yes Bank has been consistently increasing, indicating a growing investor base and potential for future growth. This can be seen as a positive sign for investors considering investing in the bank.\n",
      "\n",
      "3. Total Assets: Yes Bank's total assets have also been increasing steadily, indicating the bank's ability to attract and manage a larger pool of assets. This growth in assets can contribute to the bank's profitability and potential for future expansion.\n",
      "\n",
      "4. Stock News: Recent news about Yes Bank suggests that the stock has seen a marginal increase in price and has been holding steady. This stability in the stock price can be seen as a positive sign for investors, indicating a potential for future growth.\n",
      "\n",
      "5. Weak Underlying Business: However, it is important to note that there are concerns about the bank's weak underlying business, as indicated by the soft quarter expected in Q1. This may lead to a decline in profitability, which could impact the stock price in the short term.\n",
      "\n",
      "6. Overall Market Conditions: It is also important to consider the overall market conditions and the banking sector as a whole before making an investment decision. Factors such as economic conditions, regulatory changes, and competition can significantly impact the performance of Yes Bank and its stock price.\n",
      "\n",
      "Based on the available data and information, it can be concluded that investing in Yes Bank at this time carries both positive and negative factors. The positive factors include the bank's improving financials, increasing total capitalization, and steady stock price. However, the concerns about the weak underlying business and potential decline in profitability should also be taken into consideration. Therefore, investors should carefully evaluate their risk tolerance and conduct further research and analysis before making an investment decision in Yes Bank.\n"
     ]
    },
    {
     "data": {
      "text/plain": [
       "\"Investment Thesis for Yes Bank:\\n\\n1. Financial Performance: Yes Bank has shown improvement in its financials over the past three years. The net debt has increased, indicating higher borrowing, but the tangible book value and common stock equity have also increased, suggesting a stronger financial position.\\n\\n2. Total Capitalization: The total capitalization of Yes Bank has been consistently increasing, indicating a growing investor base and potential for future growth. This can be seen as a positive sign for investors considering investing in the bank.\\n\\n3. Total Assets: Yes Bank's total assets have also been increasing steadily, indicating the bank's ability to attract and manage a larger pool of assets. This growth in assets can contribute to the bank's profitability and potential for future expansion.\\n\\n4. Stock News: Recent news about Yes Bank suggests that the stock has seen a marginal increase in price and has been holding steady. This stability in the stock price can be seen as a positive sign for investors, indicating a potential for future growth.\\n\\n5. Weak Underlying Business: However, it is important to note that there are concerns about the bank's weak underlying business, as indicated by the soft quarter expected in Q1. This may lead to a decline in profitability, which could impact the stock price in the short term.\\n\\n6. Overall Market Conditions: It is also important to consider the overall market conditions and the banking sector as a whole before making an investment decision. Factors such as economic conditions, regulatory changes, and competition can significantly impact the performance of Yes Bank and its stock price.\\n\\nBased on the available data and information, it can be concluded that investing in Yes Bank at this time carries both positive and negative factors. The positive factors include the bank's improving financials, increasing total capitalization, and steady stock price. However, the concerns about the weak underlying business and potential decline in profitability should also be taken into consideration. Therefore, investors should carefully evaluate their risk tolerance and conduct further research and analysis before making an investment decision in Yes Bank.\""
      ]
     },
     "execution_count": 65,
     "metadata": {},
     "output_type": "execute_result"
    }
   ],
   "source": [
    "Anazlyze_stock(\"Is it a good time to invest in Yes Bank?\")    "
   ]
  },
  {
   "cell_type": "code",
   "execution_count": null,
   "metadata": {},
   "outputs": [
    {
     "name": "stdout",
     "output_type": "stream",
     "text": [
      "{'Query': 'How vednata share is doing?', 'Company_name': 'Vedanta', 'Ticker': 'VEDL'}\n",
      "\n",
      "\n",
      "Analyzing.....\n",
      "\n",
      "1. The number of ordinary shares for Vedanta has remained relatively stable over the past three years, indicating no significant dilution or increase in share capital.\n",
      "2. Net debt has increased significantly from 250.48 billion in 2021 to 592.56 billion in 2023, indicating a higher level of debt for the company. This could potentially impact the company's financial stability and ability to generate profits.\n",
      "3. Tangible book value has decreased from 588.03 billion in 2021 to 351.91 billion in 2023. This indicates a decrease in the company's tangible assets and could be a cause for concern.\n",
      "4. Working capital has shown a significant improvement from -29.32 billion in 2021 to 28.62 billion in 2022. This indicates that the company has improved its ability to meet short-term obligations and manage its current assets and liabilities.\n",
      "5. Total equity has remained relatively stable over the past three years, indicating a consistent level of shareholder's equity in the company.\n",
      "6. Total liabilities have increased from 1.08281 trillion in 2021 to 1.46929 trillion in 2023, indicating a higher level of debt and obligations for the company.\n",
      "7. Total assets have increased from 1.85697 trillion in 2021 to 1.96356 trillion in 2023, indicating growth in the company's asset base.\n",
      "\n",
      "Based on the available data, here is the investment recommendation for Vedanta:\n",
      "\n",
      "Positive Points:\n",
      "1. The improvement in working capital indicates that the company has better control over its short-term obligations and current assets.\n",
      "2. The increase in total assets indicates growth in the company's asset base, which could potentially lead to higher revenues and profits in the future.\n",
      "\n",
      "Negative Points:\n",
      "1. The significant increase in net debt and total liabilities indicates a higher level of debt for the company, which could impact its financial stability and ability to generate profits.\n",
      "2. The decrease in tangible book value raises concerns about the company's tangible assets and their value.\n",
      "\n",
      "In conclusion, Vedanta's financials show a mixed picture. While there are positive signs such as the improvement in working capital and increase in total assets, the significant increase in net debt and decrease in tangible book value are causes for concern. Investors should carefully evaluate the company's financial health and future prospects before making an investment decision.\n"
     ]
    },
    {
     "data": {
      "text/plain": [
       "\"1. The number of ordinary shares for Vedanta has remained relatively stable over the past three years, indicating no significant dilution or increase in share capital.\\n2. Net debt has increased significantly from 250.48 billion in 2021 to 592.56 billion in 2023, indicating a higher level of debt for the company. This could potentially impact the company's financial stability and ability to generate profits.\\n3. Tangible book value has decreased from 588.03 billion in 2021 to 351.91 billion in 2023. This indicates a decrease in the company's tangible assets and could be a cause for concern.\\n4. Working capital has shown a significant improvement from -29.32 billion in 2021 to 28.62 billion in 2022. This indicates that the company has improved its ability to meet short-term obligations and manage its current assets and liabilities.\\n5. Total equity has remained relatively stable over the past three years, indicating a consistent level of shareholder's equity in the company.\\n6. Total liabilities have increased from 1.08281 trillion in 2021 to 1.46929 trillion in 2023, indicating a higher level of debt and obligations for the company.\\n7. Total assets have increased from 1.85697 trillion in 2021 to 1.96356 trillion in 2023, indicating growth in the company's asset base.\\n\\nBased on the available data, here is the investment recommendation for Vedanta:\\n\\nPositive Points:\\n1. The improvement in working capital indicates that the company has better control over its short-term obligations and current assets.\\n2. The increase in total assets indicates growth in the company's asset base, which could potentially lead to higher revenues and profits in the future.\\n\\nNegative Points:\\n1. The significant increase in net debt and total liabilities indicates a higher level of debt for the company, which could impact its financial stability and ability to generate profits.\\n2. The decrease in tangible book value raises concerns about the company's tangible assets and their value.\\n\\nIn conclusion, Vedanta's financials show a mixed picture. While there are positive signs such as the improvement in working capital and increase in total assets, the significant increase in net debt and decrease in tangible book value are causes for concern. Investors should carefully evaluate the company's financial health and future prospects before making an investment decision.\""
      ]
     },
     "execution_count": 13,
     "metadata": {},
     "output_type": "execute_result"
    }
   ],
   "source": [
    "Anazlyze_stock(\"How vednata share is doing?\")    "
   ]
  }
 ],
 "metadata": {
  "kernelspec": {
   "display_name": "Python 3",
   "language": "python",
   "name": "python3"
  },
  "language_info": {
   "codemirror_mode": {
    "name": "ipython",
    "version": 3
   },
   "file_extension": ".py",
   "mimetype": "text/x-python",
   "name": "python",
   "nbconvert_exporter": "python",
   "pygments_lexer": "ipython3",
   "version": "3.12.5"
  },
  "orig_nbformat": 4
 },
 "nbformat": 4,
 "nbformat_minor": 2
}
